{
  "nbformat": 4,
  "nbformat_minor": 0,
  "metadata": {
    "colab": {
      "name": "Sendy Logistics Hackerthon_792 Lasso.ipynb",
      "provenance": [],
      "authorship_tag": "ABX9TyMaU8q97KIrM7JOWQo1Kng+",
      "include_colab_link": true
    },
    "kernelspec": {
      "name": "python3",
      "display_name": "Python 3"
    }
  },
  "cells": [
    {
      "cell_type": "markdown",
      "metadata": {
        "id": "view-in-github",
        "colab_type": "text"
      },
      "source": [
        "<a href=\"https://colab.research.google.com/github/MathewNhari/Sendy-Logistics-Challenge/blob/master/Sendy_Logistics_Hackerthon_792_Lasso.ipynb\" target=\"_parent\"><img src=\"https://colab.research.google.com/assets/colab-badge.svg\" alt=\"Open In Colab\"/></a>"
      ]
    },
    {
      "cell_type": "markdown",
      "metadata": {
        "id": "qJcgWg6vLOqO",
        "colab_type": "text"
      },
      "source": [
        "#Importing Libraries"
      ]
    },
    {
      "cell_type": "code",
      "metadata": {
        "id": "18D5hwCAK9uN",
        "colab_type": "code",
        "colab": {}
      },
      "source": [
        "import numpy as np\n",
        "import matplotlib.pyplot as plt\n",
        "import pandas as pd"
      ],
      "execution_count": 1,
      "outputs": []
    },
    {
      "cell_type": "markdown",
      "metadata": {
        "id": "CUhluAkFLKaq",
        "colab_type": "text"
      },
      "source": [
        "#Import Data"
      ]
    },
    {
      "cell_type": "code",
      "metadata": {
        "id": "X-xjfUh9LH42",
        "colab_type": "code",
        "colab": {}
      },
      "source": [
        "riders = pd.read_csv('Riders.csv')\n",
        "SampleSubmission = pd.read_csv('SampleSubmission.csv')\n",
        "Test_df = pd.read_csv('Test.csv')\n",
        "Train_df = pd.read_csv('Train.csv', parse_dates= ['Placement - Day of Month'])\n",
        "VariableDefinitions = pd.read_csv('VariableDefinitions.csv')"
      ],
      "execution_count": 2,
      "outputs": []
    },
    {
      "cell_type": "code",
      "metadata": {
        "id": "wl3OWXJKLnNk",
        "colab_type": "code",
        "colab": {
          "base_uri": "https://localhost:8080/",
          "height": 1000
        },
        "outputId": "62a494e1-7282-49a0-9572-06f689412f20"
      },
      "source": [
        "VariableDefinitions"
      ],
      "execution_count": 3,
      "outputs": [
        {
          "output_type": "execute_result",
          "data": {
            "text/html": [
              "<div>\n",
              "<style scoped>\n",
              "    .dataframe tbody tr th:only-of-type {\n",
              "        vertical-align: middle;\n",
              "    }\n",
              "\n",
              "    .dataframe tbody tr th {\n",
              "        vertical-align: top;\n",
              "    }\n",
              "\n",
              "    .dataframe thead th {\n",
              "        text-align: right;\n",
              "    }\n",
              "</style>\n",
              "<table border=\"1\" class=\"dataframe\">\n",
              "  <thead>\n",
              "    <tr style=\"text-align: right;\">\n",
              "      <th></th>\n",
              "      <th>Order No</th>\n",
              "      <th>Unique number identifying the order</th>\n",
              "    </tr>\n",
              "  </thead>\n",
              "  <tbody>\n",
              "    <tr>\n",
              "      <th>0</th>\n",
              "      <td>User Id</td>\n",
              "      <td>Unique number identifying the customer on a pl...</td>\n",
              "    </tr>\n",
              "    <tr>\n",
              "      <th>1</th>\n",
              "      <td>Vehicle Type</td>\n",
              "      <td>For this competition limited to bikes, however...</td>\n",
              "    </tr>\n",
              "    <tr>\n",
              "      <th>2</th>\n",
              "      <td>Platform Type</td>\n",
              "      <td>Platform used to place the order, there are 4 ...</td>\n",
              "    </tr>\n",
              "    <tr>\n",
              "      <th>3</th>\n",
              "      <td>Personal or Business</td>\n",
              "      <td>Customer type</td>\n",
              "    </tr>\n",
              "    <tr>\n",
              "      <th>4</th>\n",
              "      <td>Placement - Day of Month</td>\n",
              "      <td>Placement - Day of Month i.e 1-31</td>\n",
              "    </tr>\n",
              "    <tr>\n",
              "      <th>5</th>\n",
              "      <td>Placement - Weekday (Mo = 1)</td>\n",
              "      <td>Placement - Weekday (Monday = 1)</td>\n",
              "    </tr>\n",
              "    <tr>\n",
              "      <th>6</th>\n",
              "      <td>Placement - Time</td>\n",
              "      <td>Placement - Time - Time of day the order was p...</td>\n",
              "    </tr>\n",
              "    <tr>\n",
              "      <th>7</th>\n",
              "      <td>Confirmation - Day of Month</td>\n",
              "      <td>Confirmation - Day of Month i.e 1-31</td>\n",
              "    </tr>\n",
              "    <tr>\n",
              "      <th>8</th>\n",
              "      <td>Confirmation - Weekday (Mo = 1)</td>\n",
              "      <td>Confirmation - Weekday (Monday = 1)</td>\n",
              "    </tr>\n",
              "    <tr>\n",
              "      <th>9</th>\n",
              "      <td>Confirmation - Time</td>\n",
              "      <td>Confirmation - Time - Time of day the order wa...</td>\n",
              "    </tr>\n",
              "    <tr>\n",
              "      <th>10</th>\n",
              "      <td>Arrival at Pickup - Day of Month</td>\n",
              "      <td>Arrival at Pickup - Day of Month i.e 1-31</td>\n",
              "    </tr>\n",
              "    <tr>\n",
              "      <th>11</th>\n",
              "      <td>Arrival at Pickup - Weekday (Mo = 1)</td>\n",
              "      <td>Arrival at Pickup - Weekday (Monday = 1)</td>\n",
              "    </tr>\n",
              "    <tr>\n",
              "      <th>12</th>\n",
              "      <td>Arrival at Pickup - Time</td>\n",
              "      <td>Time of day the the rider arrived at the locat...</td>\n",
              "    </tr>\n",
              "    <tr>\n",
              "      <th>13</th>\n",
              "      <td>Pickup - Day of Month</td>\n",
              "      <td>Pickup - Day of Month i.e 1-31</td>\n",
              "    </tr>\n",
              "    <tr>\n",
              "      <th>14</th>\n",
              "      <td>Pickup - Weekday (Mo = 1)</td>\n",
              "      <td>Pickup - Weekday (Monday = 1)</td>\n",
              "    </tr>\n",
              "    <tr>\n",
              "      <th>15</th>\n",
              "      <td>Pickup - Time</td>\n",
              "      <td>Pickup - Time - Time of day the the rider pick...</td>\n",
              "    </tr>\n",
              "    <tr>\n",
              "      <th>16</th>\n",
              "      <td>Arrival at Destination - Day of Month</td>\n",
              "      <td>Arrival at Delivery - Day of Month i.e 1-31</td>\n",
              "    </tr>\n",
              "    <tr>\n",
              "      <th>17</th>\n",
              "      <td>Arrival at Destination - Weekday (Mo = 1)</td>\n",
              "      <td>Arrival at Delivery - Weekday (Monday = 1)</td>\n",
              "    </tr>\n",
              "    <tr>\n",
              "      <th>18</th>\n",
              "      <td>Arrival at Destination - Time</td>\n",
              "      <td>Arrival at Delivery Time - Time of day the rid...</td>\n",
              "    </tr>\n",
              "    <tr>\n",
              "      <th>19</th>\n",
              "      <td>Distance (KM)</td>\n",
              "      <td>The distance from Pickup to Destination</td>\n",
              "    </tr>\n",
              "    <tr>\n",
              "      <th>20</th>\n",
              "      <td>Temperature</td>\n",
              "      <td>Temperature at the time of order placement in ...</td>\n",
              "    </tr>\n",
              "    <tr>\n",
              "      <th>21</th>\n",
              "      <td>Precipitation in millimeters</td>\n",
              "      <td>Precipitation at the time of order placement ...</td>\n",
              "    </tr>\n",
              "    <tr>\n",
              "      <th>22</th>\n",
              "      <td>Pickup Lat</td>\n",
              "      <td>Latitude of pick up location</td>\n",
              "    </tr>\n",
              "    <tr>\n",
              "      <th>23</th>\n",
              "      <td>Pickup Long</td>\n",
              "      <td>Longitude of pick up location</td>\n",
              "    </tr>\n",
              "    <tr>\n",
              "      <th>24</th>\n",
              "      <td>Destination Lat</td>\n",
              "      <td>Latitude of delivery location</td>\n",
              "    </tr>\n",
              "    <tr>\n",
              "      <th>25</th>\n",
              "      <td>Destination Long</td>\n",
              "      <td>Longitude of delivery location</td>\n",
              "    </tr>\n",
              "    <tr>\n",
              "      <th>26</th>\n",
              "      <td>Rider Id</td>\n",
              "      <td>ID of the Rider who accepted the order</td>\n",
              "    </tr>\n",
              "    <tr>\n",
              "      <th>27</th>\n",
              "      <td>Time from Pickup to Arrival</td>\n",
              "      <td>Time in seconds between 'Pickup' and 'Arrival ...</td>\n",
              "    </tr>\n",
              "    <tr>\n",
              "      <th>28</th>\n",
              "      <td>NaN</td>\n",
              "      <td>NaN</td>\n",
              "    </tr>\n",
              "    <tr>\n",
              "      <th>29</th>\n",
              "      <td>Rider Metrics</td>\n",
              "      <td>NaN</td>\n",
              "    </tr>\n",
              "    <tr>\n",
              "      <th>30</th>\n",
              "      <td>Rider Id</td>\n",
              "      <td>Unique number identifying the rider (same as i...</td>\n",
              "    </tr>\n",
              "    <tr>\n",
              "      <th>31</th>\n",
              "      <td>No_Of_Orders</td>\n",
              "      <td>Number of Orders the rider has delivered</td>\n",
              "    </tr>\n",
              "    <tr>\n",
              "      <th>32</th>\n",
              "      <td>Age</td>\n",
              "      <td>Number of days since the rider delivered the f...</td>\n",
              "    </tr>\n",
              "    <tr>\n",
              "      <th>33</th>\n",
              "      <td>Average_Rating</td>\n",
              "      <td>Average rating of the rider</td>\n",
              "    </tr>\n",
              "    <tr>\n",
              "      <th>34</th>\n",
              "      <td>No_of_Ratings</td>\n",
              "      <td>Number of ratings the rider has received. Rat...</td>\n",
              "    </tr>\n",
              "  </tbody>\n",
              "</table>\n",
              "</div>"
            ],
            "text/plain": [
              "                                     Order No                Unique number identifying the order\n",
              "0                                     User Id  Unique number identifying the customer on a pl...\n",
              "1                                Vehicle Type  For this competition limited to bikes, however...\n",
              "2                               Platform Type  Platform used to place the order, there are 4 ...\n",
              "3                        Personal or Business                                      Customer type\n",
              "4                    Placement - Day of Month                  Placement - Day of Month i.e 1-31\n",
              "5                Placement - Weekday (Mo = 1)                   Placement - Weekday (Monday = 1)\n",
              "6                            Placement - Time  Placement - Time - Time of day the order was p...\n",
              "7                 Confirmation - Day of Month               Confirmation - Day of Month i.e 1-31\n",
              "8             Confirmation - Weekday (Mo = 1)                Confirmation - Weekday (Monday = 1)\n",
              "9                         Confirmation - Time  Confirmation - Time - Time of day the order wa...\n",
              "10           Arrival at Pickup - Day of Month          Arrival at Pickup - Day of Month i.e 1-31\n",
              "11       Arrival at Pickup - Weekday (Mo = 1)           Arrival at Pickup - Weekday (Monday = 1)\n",
              "12                   Arrival at Pickup - Time  Time of day the the rider arrived at the locat...\n",
              "13                      Pickup - Day of Month                     Pickup - Day of Month i.e 1-31\n",
              "14                  Pickup - Weekday (Mo = 1)                      Pickup - Weekday (Monday = 1)\n",
              "15                              Pickup - Time  Pickup - Time - Time of day the the rider pick...\n",
              "16      Arrival at Destination - Day of Month        Arrival at Delivery - Day of Month i.e 1-31\n",
              "17  Arrival at Destination - Weekday (Mo = 1)         Arrival at Delivery - Weekday (Monday = 1)\n",
              "18              Arrival at Destination - Time  Arrival at Delivery Time - Time of day the rid...\n",
              "19                              Distance (KM)            The distance from Pickup to Destination\n",
              "20                                Temperature  Temperature at the time of order placement in ...\n",
              "21               Precipitation in millimeters   Precipitation at the time of order placement ...\n",
              "22                                 Pickup Lat                       Latitude of pick up location\n",
              "23                                Pickup Long                      Longitude of pick up location\n",
              "24                            Destination Lat                      Latitude of delivery location\n",
              "25                           Destination Long                     Longitude of delivery location\n",
              "26                                   Rider Id             ID of the Rider who accepted the order\n",
              "27                Time from Pickup to Arrival  Time in seconds between 'Pickup' and 'Arrival ...\n",
              "28                                        NaN                                                NaN\n",
              "29                              Rider Metrics                                                NaN\n",
              "30                                   Rider Id  Unique number identifying the rider (same as i...\n",
              "31                               No_Of_Orders           Number of Orders the rider has delivered\n",
              "32                                        Age  Number of days since the rider delivered the f...\n",
              "33                             Average_Rating                        Average rating of the rider\n",
              "34                              No_of_Ratings   Number of ratings the rider has received. Rat..."
            ]
          },
          "metadata": {
            "tags": []
          },
          "execution_count": 3
        }
      ]
    },
    {
      "cell_type": "markdown",
      "metadata": {
        "id": "aiQWISQpL0Mh",
        "colab_type": "text"
      },
      "source": [
        "**Sample Submission**"
      ]
    },
    {
      "cell_type": "code",
      "metadata": {
        "id": "BTmTgbBSLs8D",
        "colab_type": "code",
        "colab": {
          "base_uri": "https://localhost:8080/",
          "height": 204
        },
        "outputId": "155634d5-ce21-4fe7-dc44-e573fb09e6b6"
      },
      "source": [
        "SampleSubmission.head()"
      ],
      "execution_count": 4,
      "outputs": [
        {
          "output_type": "execute_result",
          "data": {
            "text/html": [
              "<div>\n",
              "<style scoped>\n",
              "    .dataframe tbody tr th:only-of-type {\n",
              "        vertical-align: middle;\n",
              "    }\n",
              "\n",
              "    .dataframe tbody tr th {\n",
              "        vertical-align: top;\n",
              "    }\n",
              "\n",
              "    .dataframe thead th {\n",
              "        text-align: right;\n",
              "    }\n",
              "</style>\n",
              "<table border=\"1\" class=\"dataframe\">\n",
              "  <thead>\n",
              "    <tr style=\"text-align: right;\">\n",
              "      <th></th>\n",
              "      <th>Order_No</th>\n",
              "      <th>Time from Pickup to Arrival</th>\n",
              "    </tr>\n",
              "  </thead>\n",
              "  <tbody>\n",
              "    <tr>\n",
              "      <th>0</th>\n",
              "      <td>Order_No_19248</td>\n",
              "      <td>567.0</td>\n",
              "    </tr>\n",
              "    <tr>\n",
              "      <th>1</th>\n",
              "      <td>Order_No_12736</td>\n",
              "      <td>4903.0</td>\n",
              "    </tr>\n",
              "    <tr>\n",
              "      <th>2</th>\n",
              "      <td>Order_No_768</td>\n",
              "      <td>5649.0</td>\n",
              "    </tr>\n",
              "    <tr>\n",
              "      <th>3</th>\n",
              "      <td>Order_No_15332</td>\n",
              "      <td>NaN</td>\n",
              "    </tr>\n",
              "    <tr>\n",
              "      <th>4</th>\n",
              "      <td>Order_No_21373</td>\n",
              "      <td>NaN</td>\n",
              "    </tr>\n",
              "  </tbody>\n",
              "</table>\n",
              "</div>"
            ],
            "text/plain": [
              "         Order_No  Time from Pickup to Arrival\n",
              "0  Order_No_19248                        567.0\n",
              "1  Order_No_12736                       4903.0\n",
              "2    Order_No_768                       5649.0\n",
              "3  Order_No_15332                          NaN\n",
              "4  Order_No_21373                          NaN"
            ]
          },
          "metadata": {
            "tags": []
          },
          "execution_count": 4
        }
      ]
    },
    {
      "cell_type": "markdown",
      "metadata": {
        "id": "-_3tbY1zMpnO",
        "colab_type": "text"
      },
      "source": [
        " **Data**"
      ]
    },
    {
      "cell_type": "code",
      "metadata": {
        "id": "tX-Gl7BNMmT4",
        "colab_type": "code",
        "colab": {
          "base_uri": "https://localhost:8080/",
          "height": 204
        },
        "outputId": "6aea3537-dd50-41bc-c7c5-d516e27c89a6"
      },
      "source": [
        "riders.head()"
      ],
      "execution_count": 5,
      "outputs": [
        {
          "output_type": "execute_result",
          "data": {
            "text/html": [
              "<div>\n",
              "<style scoped>\n",
              "    .dataframe tbody tr th:only-of-type {\n",
              "        vertical-align: middle;\n",
              "    }\n",
              "\n",
              "    .dataframe tbody tr th {\n",
              "        vertical-align: top;\n",
              "    }\n",
              "\n",
              "    .dataframe thead th {\n",
              "        text-align: right;\n",
              "    }\n",
              "</style>\n",
              "<table border=\"1\" class=\"dataframe\">\n",
              "  <thead>\n",
              "    <tr style=\"text-align: right;\">\n",
              "      <th></th>\n",
              "      <th>Rider Id</th>\n",
              "      <th>No_Of_Orders</th>\n",
              "      <th>Age</th>\n",
              "      <th>Average_Rating</th>\n",
              "      <th>No_of_Ratings</th>\n",
              "    </tr>\n",
              "  </thead>\n",
              "  <tbody>\n",
              "    <tr>\n",
              "      <th>0</th>\n",
              "      <td>Rider_Id_396</td>\n",
              "      <td>2946</td>\n",
              "      <td>2298</td>\n",
              "      <td>14.0</td>\n",
              "      <td>1159</td>\n",
              "    </tr>\n",
              "    <tr>\n",
              "      <th>1</th>\n",
              "      <td>Rider_Id_479</td>\n",
              "      <td>360</td>\n",
              "      <td>951</td>\n",
              "      <td>13.5</td>\n",
              "      <td>176</td>\n",
              "    </tr>\n",
              "    <tr>\n",
              "      <th>2</th>\n",
              "      <td>Rider_Id_648</td>\n",
              "      <td>1746</td>\n",
              "      <td>821</td>\n",
              "      <td>14.3</td>\n",
              "      <td>466</td>\n",
              "    </tr>\n",
              "    <tr>\n",
              "      <th>3</th>\n",
              "      <td>Rider_Id_753</td>\n",
              "      <td>314</td>\n",
              "      <td>980</td>\n",
              "      <td>12.5</td>\n",
              "      <td>75</td>\n",
              "    </tr>\n",
              "    <tr>\n",
              "      <th>4</th>\n",
              "      <td>Rider_Id_335</td>\n",
              "      <td>536</td>\n",
              "      <td>1113</td>\n",
              "      <td>13.7</td>\n",
              "      <td>156</td>\n",
              "    </tr>\n",
              "  </tbody>\n",
              "</table>\n",
              "</div>"
            ],
            "text/plain": [
              "       Rider Id  No_Of_Orders   Age  Average_Rating  No_of_Ratings\n",
              "0  Rider_Id_396          2946  2298            14.0           1159\n",
              "1  Rider_Id_479           360   951            13.5            176\n",
              "2  Rider_Id_648          1746   821            14.3            466\n",
              "3  Rider_Id_753           314   980            12.5             75\n",
              "4  Rider_Id_335           536  1113            13.7            156"
            ]
          },
          "metadata": {
            "tags": []
          },
          "execution_count": 5
        }
      ]
    },
    {
      "cell_type": "code",
      "metadata": {
        "id": "j-Ag07WVM1Rh",
        "colab_type": "code",
        "colab": {
          "base_uri": "https://localhost:8080/",
          "height": 221
        },
        "outputId": "95e39311-04d3-4eef-cc05-a6d823efca6a"
      },
      "source": [
        "riders.info()"
      ],
      "execution_count": 6,
      "outputs": [
        {
          "output_type": "stream",
          "text": [
            "<class 'pandas.core.frame.DataFrame'>\n",
            "RangeIndex: 960 entries, 0 to 959\n",
            "Data columns (total 5 columns):\n",
            " #   Column          Non-Null Count  Dtype  \n",
            "---  ------          --------------  -----  \n",
            " 0   Rider Id        960 non-null    object \n",
            " 1   No_Of_Orders    960 non-null    int64  \n",
            " 2   Age             960 non-null    int64  \n",
            " 3   Average_Rating  960 non-null    float64\n",
            " 4   No_of_Ratings   960 non-null    int64  \n",
            "dtypes: float64(1), int64(3), object(1)\n",
            "memory usage: 37.6+ KB\n"
          ],
          "name": "stdout"
        }
      ]
    },
    {
      "cell_type": "code",
      "metadata": {
        "id": "A9htCp9tNbaz",
        "colab_type": "code",
        "colab": {
          "base_uri": "https://localhost:8080/",
          "height": 315
        },
        "outputId": "fcc28fe6-ef56-4208-a5bb-163112b0ef72"
      },
      "source": [
        "Train_df.head(3)"
      ],
      "execution_count": 7,
      "outputs": [
        {
          "output_type": "execute_result",
          "data": {
            "text/html": [
              "<div>\n",
              "<style scoped>\n",
              "    .dataframe tbody tr th:only-of-type {\n",
              "        vertical-align: middle;\n",
              "    }\n",
              "\n",
              "    .dataframe tbody tr th {\n",
              "        vertical-align: top;\n",
              "    }\n",
              "\n",
              "    .dataframe thead th {\n",
              "        text-align: right;\n",
              "    }\n",
              "</style>\n",
              "<table border=\"1\" class=\"dataframe\">\n",
              "  <thead>\n",
              "    <tr style=\"text-align: right;\">\n",
              "      <th></th>\n",
              "      <th>Order No</th>\n",
              "      <th>User Id</th>\n",
              "      <th>Vehicle Type</th>\n",
              "      <th>Platform Type</th>\n",
              "      <th>Personal or Business</th>\n",
              "      <th>Placement - Day of Month</th>\n",
              "      <th>Placement - Weekday (Mo = 1)</th>\n",
              "      <th>Placement - Time</th>\n",
              "      <th>Confirmation - Day of Month</th>\n",
              "      <th>Confirmation - Weekday (Mo = 1)</th>\n",
              "      <th>Confirmation - Time</th>\n",
              "      <th>Arrival at Pickup - Day of Month</th>\n",
              "      <th>Arrival at Pickup - Weekday (Mo = 1)</th>\n",
              "      <th>Arrival at Pickup - Time</th>\n",
              "      <th>Pickup - Day of Month</th>\n",
              "      <th>Pickup - Weekday (Mo = 1)</th>\n",
              "      <th>Pickup - Time</th>\n",
              "      <th>Arrival at Destination - Day of Month</th>\n",
              "      <th>Arrival at Destination - Weekday (Mo = 1)</th>\n",
              "      <th>Arrival at Destination - Time</th>\n",
              "      <th>Distance (KM)</th>\n",
              "      <th>Temperature</th>\n",
              "      <th>Precipitation in millimeters</th>\n",
              "      <th>Pickup Lat</th>\n",
              "      <th>Pickup Long</th>\n",
              "      <th>Destination Lat</th>\n",
              "      <th>Destination Long</th>\n",
              "      <th>Rider Id</th>\n",
              "      <th>Time from Pickup to Arrival</th>\n",
              "    </tr>\n",
              "  </thead>\n",
              "  <tbody>\n",
              "    <tr>\n",
              "      <th>0</th>\n",
              "      <td>Order_No_4211</td>\n",
              "      <td>User_Id_633</td>\n",
              "      <td>Bike</td>\n",
              "      <td>3</td>\n",
              "      <td>Business</td>\n",
              "      <td>9</td>\n",
              "      <td>5</td>\n",
              "      <td>9:35:46 AM</td>\n",
              "      <td>9</td>\n",
              "      <td>5</td>\n",
              "      <td>9:40:10 AM</td>\n",
              "      <td>9</td>\n",
              "      <td>5</td>\n",
              "      <td>10:04:47 AM</td>\n",
              "      <td>9</td>\n",
              "      <td>5</td>\n",
              "      <td>10:27:30 AM</td>\n",
              "      <td>9</td>\n",
              "      <td>5</td>\n",
              "      <td>10:39:55 AM</td>\n",
              "      <td>4</td>\n",
              "      <td>20.4</td>\n",
              "      <td>NaN</td>\n",
              "      <td>-1.317755</td>\n",
              "      <td>36.830370</td>\n",
              "      <td>-1.300406</td>\n",
              "      <td>36.829741</td>\n",
              "      <td>Rider_Id_432</td>\n",
              "      <td>745</td>\n",
              "    </tr>\n",
              "    <tr>\n",
              "      <th>1</th>\n",
              "      <td>Order_No_25375</td>\n",
              "      <td>User_Id_2285</td>\n",
              "      <td>Bike</td>\n",
              "      <td>3</td>\n",
              "      <td>Personal</td>\n",
              "      <td>12</td>\n",
              "      <td>5</td>\n",
              "      <td>11:16:16 AM</td>\n",
              "      <td>12</td>\n",
              "      <td>5</td>\n",
              "      <td>11:23:21 AM</td>\n",
              "      <td>12</td>\n",
              "      <td>5</td>\n",
              "      <td>11:40:22 AM</td>\n",
              "      <td>12</td>\n",
              "      <td>5</td>\n",
              "      <td>11:44:09 AM</td>\n",
              "      <td>12</td>\n",
              "      <td>5</td>\n",
              "      <td>12:17:22 PM</td>\n",
              "      <td>16</td>\n",
              "      <td>26.4</td>\n",
              "      <td>NaN</td>\n",
              "      <td>-1.351453</td>\n",
              "      <td>36.899315</td>\n",
              "      <td>-1.295004</td>\n",
              "      <td>36.814358</td>\n",
              "      <td>Rider_Id_856</td>\n",
              "      <td>1993</td>\n",
              "    </tr>\n",
              "    <tr>\n",
              "      <th>2</th>\n",
              "      <td>Order_No_1899</td>\n",
              "      <td>User_Id_265</td>\n",
              "      <td>Bike</td>\n",
              "      <td>3</td>\n",
              "      <td>Business</td>\n",
              "      <td>30</td>\n",
              "      <td>2</td>\n",
              "      <td>12:39:25 PM</td>\n",
              "      <td>30</td>\n",
              "      <td>2</td>\n",
              "      <td>12:42:44 PM</td>\n",
              "      <td>30</td>\n",
              "      <td>2</td>\n",
              "      <td>12:49:34 PM</td>\n",
              "      <td>30</td>\n",
              "      <td>2</td>\n",
              "      <td>12:53:03 PM</td>\n",
              "      <td>30</td>\n",
              "      <td>2</td>\n",
              "      <td>1:00:38 PM</td>\n",
              "      <td>3</td>\n",
              "      <td>NaN</td>\n",
              "      <td>NaN</td>\n",
              "      <td>-1.308284</td>\n",
              "      <td>36.843419</td>\n",
              "      <td>-1.300921</td>\n",
              "      <td>36.828195</td>\n",
              "      <td>Rider_Id_155</td>\n",
              "      <td>455</td>\n",
              "    </tr>\n",
              "  </tbody>\n",
              "</table>\n",
              "</div>"
            ],
            "text/plain": [
              "         Order No       User Id  ...      Rider Id  Time from Pickup to Arrival\n",
              "0   Order_No_4211   User_Id_633  ...  Rider_Id_432                          745\n",
              "1  Order_No_25375  User_Id_2285  ...  Rider_Id_856                         1993\n",
              "2   Order_No_1899   User_Id_265  ...  Rider_Id_155                          455\n",
              "\n",
              "[3 rows x 29 columns]"
            ]
          },
          "metadata": {
            "tags": []
          },
          "execution_count": 7
        }
      ]
    },
    {
      "cell_type": "code",
      "metadata": {
        "id": "TTPK--reNeOy",
        "colab_type": "code",
        "colab": {
          "base_uri": "https://localhost:8080/",
          "height": 629
        },
        "outputId": "832fcdab-55c2-4a57-d8bc-5a9ce9335d7e"
      },
      "source": [
        "Train_df.info()"
      ],
      "execution_count": 8,
      "outputs": [
        {
          "output_type": "stream",
          "text": [
            "<class 'pandas.core.frame.DataFrame'>\n",
            "RangeIndex: 21201 entries, 0 to 21200\n",
            "Data columns (total 29 columns):\n",
            " #   Column                                     Non-Null Count  Dtype  \n",
            "---  ------                                     --------------  -----  \n",
            " 0   Order No                                   21201 non-null  object \n",
            " 1   User Id                                    21201 non-null  object \n",
            " 2   Vehicle Type                               21201 non-null  object \n",
            " 3   Platform Type                              21201 non-null  int64  \n",
            " 4   Personal or Business                       21201 non-null  object \n",
            " 5   Placement - Day of Month                   21201 non-null  object \n",
            " 6   Placement - Weekday (Mo = 1)               21201 non-null  int64  \n",
            " 7   Placement - Time                           21201 non-null  object \n",
            " 8   Confirmation - Day of Month                21201 non-null  int64  \n",
            " 9   Confirmation - Weekday (Mo = 1)            21201 non-null  int64  \n",
            " 10  Confirmation - Time                        21201 non-null  object \n",
            " 11  Arrival at Pickup - Day of Month           21201 non-null  int64  \n",
            " 12  Arrival at Pickup - Weekday (Mo = 1)       21201 non-null  int64  \n",
            " 13  Arrival at Pickup - Time                   21201 non-null  object \n",
            " 14  Pickup - Day of Month                      21201 non-null  int64  \n",
            " 15  Pickup - Weekday (Mo = 1)                  21201 non-null  int64  \n",
            " 16  Pickup - Time                              21201 non-null  object \n",
            " 17  Arrival at Destination - Day of Month      21201 non-null  int64  \n",
            " 18  Arrival at Destination - Weekday (Mo = 1)  21201 non-null  int64  \n",
            " 19  Arrival at Destination - Time              21201 non-null  object \n",
            " 20  Distance (KM)                              21201 non-null  int64  \n",
            " 21  Temperature                                16835 non-null  float64\n",
            " 22  Precipitation in millimeters               552 non-null    float64\n",
            " 23  Pickup Lat                                 21201 non-null  float64\n",
            " 24  Pickup Long                                21201 non-null  float64\n",
            " 25  Destination Lat                            21201 non-null  float64\n",
            " 26  Destination Long                           21201 non-null  float64\n",
            " 27  Rider Id                                   21201 non-null  object \n",
            " 28  Time from Pickup to Arrival                21201 non-null  int64  \n",
            "dtypes: float64(6), int64(12), object(11)\n",
            "memory usage: 4.7+ MB\n"
          ],
          "name": "stdout"
        }
      ]
    },
    {
      "cell_type": "code",
      "metadata": {
        "id": "zthPgXjVN9wH",
        "colab_type": "code",
        "colab": {
          "base_uri": "https://localhost:8080/",
          "height": 34
        },
        "outputId": "6e1ef326-5e7c-4ee9-e400-ddb3e359cdf4"
      },
      "source": [
        "len(Train_df['User Id'].unique())"
      ],
      "execution_count": 9,
      "outputs": [
        {
          "output_type": "execute_result",
          "data": {
            "text/plain": [
              "3186"
            ]
          },
          "metadata": {
            "tags": []
          },
          "execution_count": 9
        }
      ]
    },
    {
      "cell_type": "markdown",
      "metadata": {
        "id": "j8AeqW39O46K",
        "colab_type": "text"
      },
      "source": [
        "**Joining the Test_df and Train_df to riders**"
      ]
    },
    {
      "cell_type": "code",
      "metadata": {
        "id": "awbt3ruGO1dt",
        "colab_type": "code",
        "colab": {}
      },
      "source": [
        "Test_df = Test_df.merge(riders,on='Rider Id',how='inner')\n",
        "Train_df = Train_df.merge(riders,on='Rider Id',how='inner')"
      ],
      "execution_count": 10,
      "outputs": []
    },
    {
      "cell_type": "code",
      "metadata": {
        "id": "VCbU_KRyPDLs",
        "colab_type": "code",
        "colab": {
          "base_uri": "https://localhost:8080/",
          "height": 219
        },
        "outputId": "677a73a3-ae47-44f3-ec70-b0ecaebc24f2"
      },
      "source": [
        "Train_df.head(1)"
      ],
      "execution_count": 11,
      "outputs": [
        {
          "output_type": "execute_result",
          "data": {
            "text/html": [
              "<div>\n",
              "<style scoped>\n",
              "    .dataframe tbody tr th:only-of-type {\n",
              "        vertical-align: middle;\n",
              "    }\n",
              "\n",
              "    .dataframe tbody tr th {\n",
              "        vertical-align: top;\n",
              "    }\n",
              "\n",
              "    .dataframe thead th {\n",
              "        text-align: right;\n",
              "    }\n",
              "</style>\n",
              "<table border=\"1\" class=\"dataframe\">\n",
              "  <thead>\n",
              "    <tr style=\"text-align: right;\">\n",
              "      <th></th>\n",
              "      <th>Order No</th>\n",
              "      <th>User Id</th>\n",
              "      <th>Vehicle Type</th>\n",
              "      <th>Platform Type</th>\n",
              "      <th>Personal or Business</th>\n",
              "      <th>Placement - Day of Month</th>\n",
              "      <th>Placement - Weekday (Mo = 1)</th>\n",
              "      <th>Placement - Time</th>\n",
              "      <th>Confirmation - Day of Month</th>\n",
              "      <th>Confirmation - Weekday (Mo = 1)</th>\n",
              "      <th>Confirmation - Time</th>\n",
              "      <th>Arrival at Pickup - Day of Month</th>\n",
              "      <th>Arrival at Pickup - Weekday (Mo = 1)</th>\n",
              "      <th>Arrival at Pickup - Time</th>\n",
              "      <th>Pickup - Day of Month</th>\n",
              "      <th>Pickup - Weekday (Mo = 1)</th>\n",
              "      <th>Pickup - Time</th>\n",
              "      <th>Arrival at Destination - Day of Month</th>\n",
              "      <th>Arrival at Destination - Weekday (Mo = 1)</th>\n",
              "      <th>Arrival at Destination - Time</th>\n",
              "      <th>Distance (KM)</th>\n",
              "      <th>Temperature</th>\n",
              "      <th>Precipitation in millimeters</th>\n",
              "      <th>Pickup Lat</th>\n",
              "      <th>Pickup Long</th>\n",
              "      <th>Destination Lat</th>\n",
              "      <th>Destination Long</th>\n",
              "      <th>Rider Id</th>\n",
              "      <th>Time from Pickup to Arrival</th>\n",
              "      <th>No_Of_Orders</th>\n",
              "      <th>Age</th>\n",
              "      <th>Average_Rating</th>\n",
              "      <th>No_of_Ratings</th>\n",
              "    </tr>\n",
              "  </thead>\n",
              "  <tbody>\n",
              "    <tr>\n",
              "      <th>0</th>\n",
              "      <td>Order_No_4211</td>\n",
              "      <td>User_Id_633</td>\n",
              "      <td>Bike</td>\n",
              "      <td>3</td>\n",
              "      <td>Business</td>\n",
              "      <td>9</td>\n",
              "      <td>5</td>\n",
              "      <td>9:35:46 AM</td>\n",
              "      <td>9</td>\n",
              "      <td>5</td>\n",
              "      <td>9:40:10 AM</td>\n",
              "      <td>9</td>\n",
              "      <td>5</td>\n",
              "      <td>10:04:47 AM</td>\n",
              "      <td>9</td>\n",
              "      <td>5</td>\n",
              "      <td>10:27:30 AM</td>\n",
              "      <td>9</td>\n",
              "      <td>5</td>\n",
              "      <td>10:39:55 AM</td>\n",
              "      <td>4</td>\n",
              "      <td>20.4</td>\n",
              "      <td>NaN</td>\n",
              "      <td>-1.317755</td>\n",
              "      <td>36.83037</td>\n",
              "      <td>-1.300406</td>\n",
              "      <td>36.829741</td>\n",
              "      <td>Rider_Id_432</td>\n",
              "      <td>745</td>\n",
              "      <td>1637</td>\n",
              "      <td>1309</td>\n",
              "      <td>13.8</td>\n",
              "      <td>549</td>\n",
              "    </tr>\n",
              "  </tbody>\n",
              "</table>\n",
              "</div>"
            ],
            "text/plain": [
              "        Order No      User Id Vehicle Type  ...   Age Average_Rating No_of_Ratings\n",
              "0  Order_No_4211  User_Id_633         Bike  ...  1309           13.8           549\n",
              "\n",
              "[1 rows x 33 columns]"
            ]
          },
          "metadata": {
            "tags": []
          },
          "execution_count": 11
        }
      ]
    },
    {
      "cell_type": "code",
      "metadata": {
        "id": "vY6Cg7E9PU5V",
        "colab_type": "code",
        "colab": {}
      },
      "source": [
        "assert Train_df['Pickup - Day of Month'].all() == Train_df['Arrival at Destination - Day of Month'].all(), \"Not True\""
      ],
      "execution_count": 12,
      "outputs": []
    },
    {
      "cell_type": "code",
      "metadata": {
        "id": "S79N4UdRPq2d",
        "colab_type": "code",
        "colab": {}
      },
      "source": [
        "#No duplicate Data On Test Data\n",
        "def Check_duplicates(df):\n",
        "  duplicates = df.duplicated(subset = ['Order No'], keep = False)\n",
        "  return df[duplicates]"
      ],
      "execution_count": 13,
      "outputs": []
    },
    {
      "cell_type": "code",
      "metadata": {
        "id": "8egg6EcxPyCf",
        "colab_type": "code",
        "colab": {}
      },
      "source": [
        "#No duplicates \n",
        "Train_duplicates = Check_duplicates(Train_df)\n",
        "Test_duplucates = Check_duplicates(Test_df)"
      ],
      "execution_count": 14,
      "outputs": []
    },
    {
      "cell_type": "code",
      "metadata": {
        "id": "AgqigzQoRew-",
        "colab_type": "code",
        "colab": {
          "base_uri": "https://localhost:8080/",
          "height": 171
        },
        "outputId": "a460c447-a451-42ed-8456-117e6661bb92"
      },
      "source": [
        "Train_duplicates"
      ],
      "execution_count": 15,
      "outputs": [
        {
          "output_type": "execute_result",
          "data": {
            "text/html": [
              "<div>\n",
              "<style scoped>\n",
              "    .dataframe tbody tr th:only-of-type {\n",
              "        vertical-align: middle;\n",
              "    }\n",
              "\n",
              "    .dataframe tbody tr th {\n",
              "        vertical-align: top;\n",
              "    }\n",
              "\n",
              "    .dataframe thead th {\n",
              "        text-align: right;\n",
              "    }\n",
              "</style>\n",
              "<table border=\"1\" class=\"dataframe\">\n",
              "  <thead>\n",
              "    <tr style=\"text-align: right;\">\n",
              "      <th></th>\n",
              "      <th>Order No</th>\n",
              "      <th>User Id</th>\n",
              "      <th>Vehicle Type</th>\n",
              "      <th>Platform Type</th>\n",
              "      <th>Personal or Business</th>\n",
              "      <th>Placement - Day of Month</th>\n",
              "      <th>Placement - Weekday (Mo = 1)</th>\n",
              "      <th>Placement - Time</th>\n",
              "      <th>Confirmation - Day of Month</th>\n",
              "      <th>Confirmation - Weekday (Mo = 1)</th>\n",
              "      <th>Confirmation - Time</th>\n",
              "      <th>Arrival at Pickup - Day of Month</th>\n",
              "      <th>Arrival at Pickup - Weekday (Mo = 1)</th>\n",
              "      <th>Arrival at Pickup - Time</th>\n",
              "      <th>Pickup - Day of Month</th>\n",
              "      <th>Pickup - Weekday (Mo = 1)</th>\n",
              "      <th>Pickup - Time</th>\n",
              "      <th>Arrival at Destination - Day of Month</th>\n",
              "      <th>Arrival at Destination - Weekday (Mo = 1)</th>\n",
              "      <th>Arrival at Destination - Time</th>\n",
              "      <th>Distance (KM)</th>\n",
              "      <th>Temperature</th>\n",
              "      <th>Precipitation in millimeters</th>\n",
              "      <th>Pickup Lat</th>\n",
              "      <th>Pickup Long</th>\n",
              "      <th>Destination Lat</th>\n",
              "      <th>Destination Long</th>\n",
              "      <th>Rider Id</th>\n",
              "      <th>Time from Pickup to Arrival</th>\n",
              "      <th>No_Of_Orders</th>\n",
              "      <th>Age</th>\n",
              "      <th>Average_Rating</th>\n",
              "      <th>No_of_Ratings</th>\n",
              "    </tr>\n",
              "  </thead>\n",
              "  <tbody>\n",
              "  </tbody>\n",
              "</table>\n",
              "</div>"
            ],
            "text/plain": [
              "Empty DataFrame\n",
              "Columns: [Order No, User Id, Vehicle Type, Platform Type, Personal or Business, Placement - Day of Month, Placement - Weekday (Mo = 1), Placement - Time, Confirmation - Day of Month, Confirmation - Weekday (Mo = 1), Confirmation - Time, Arrival at Pickup - Day of Month, Arrival at Pickup - Weekday (Mo = 1), Arrival at Pickup - Time, Pickup - Day of Month, Pickup - Weekday (Mo = 1), Pickup - Time, Arrival at Destination - Day of Month, Arrival at Destination - Weekday (Mo = 1), Arrival at Destination - Time, Distance (KM), Temperature, Precipitation in millimeters, Pickup Lat, Pickup Long, Destination Lat, Destination Long, Rider Id, Time from Pickup to Arrival, No_Of_Orders, Age, Average_Rating, No_of_Ratings]\n",
              "Index: []"
            ]
          },
          "metadata": {
            "tags": []
          },
          "execution_count": 15
        }
      ]
    },
    {
      "cell_type": "code",
      "metadata": {
        "id": "LaEHcv3qRHqw",
        "colab_type": "code",
        "colab": {}
      },
      "source": [
        "def columnDrop(df,columns):\n",
        "  df.drop(columns, axis=1,inplace=True)\n",
        "  df.set_index(['Order No'], inplace= True)\n",
        "  return df"
      ],
      "execution_count": 16,
      "outputs": []
    },
    {
      "cell_type": "code",
      "metadata": {
        "id": "b24v-CCjROUy",
        "colab_type": "code",
        "colab": {}
      },
      "source": [
        "Drop_Train_Cols = ['Vehicle Type', 'Precipitation in millimeters','Arrival at Destination - Day of Month',\n",
        "                   'Arrival at Destination - Weekday (Mo = 1)','Arrival at Destination - Time','User Id','Placement - Day of Month',\n",
        "                   'Placement - Weekday (Mo = 1)','Confirmation - Day of Month','Confirmation - Weekday (Mo = 1)',\n",
        "                   'Arrival at Pickup - Weekday (Mo = 1)']\n",
        "\n",
        "Drop_Test_Cols = ['Vehicle Type', 'Precipitation in millimeters','User Id','Placement - Day of Month','Confirmation - Day of Month',\n",
        "                  'Confirmation - Weekday (Mo = 1)','Arrival at Pickup - Weekday (Mo = 1)']\n",
        "       \n",
        "Test_df= columnDrop(Test_df,Drop_Test_Cols)\n",
        "Train_df = columnDrop(Train_df,Drop_Train_Cols)"
      ],
      "execution_count": 17,
      "outputs": []
    },
    {
      "cell_type": "code",
      "metadata": {
        "id": "jxRJQqCAUWKb",
        "colab_type": "code",
        "colab": {
          "base_uri": "https://localhost:8080/",
          "height": 425
        },
        "outputId": "f0aac300-db67-4301-db57-d484e467f9e3"
      },
      "source": [
        "Train_df.head()"
      ],
      "execution_count": 18,
      "outputs": [
        {
          "output_type": "execute_result",
          "data": {
            "text/html": [
              "<div>\n",
              "<style scoped>\n",
              "    .dataframe tbody tr th:only-of-type {\n",
              "        vertical-align: middle;\n",
              "    }\n",
              "\n",
              "    .dataframe tbody tr th {\n",
              "        vertical-align: top;\n",
              "    }\n",
              "\n",
              "    .dataframe thead th {\n",
              "        text-align: right;\n",
              "    }\n",
              "</style>\n",
              "<table border=\"1\" class=\"dataframe\">\n",
              "  <thead>\n",
              "    <tr style=\"text-align: right;\">\n",
              "      <th></th>\n",
              "      <th>Platform Type</th>\n",
              "      <th>Personal or Business</th>\n",
              "      <th>Placement - Time</th>\n",
              "      <th>Confirmation - Time</th>\n",
              "      <th>Arrival at Pickup - Day of Month</th>\n",
              "      <th>Arrival at Pickup - Time</th>\n",
              "      <th>Pickup - Day of Month</th>\n",
              "      <th>Pickup - Weekday (Mo = 1)</th>\n",
              "      <th>Pickup - Time</th>\n",
              "      <th>Distance (KM)</th>\n",
              "      <th>Temperature</th>\n",
              "      <th>Pickup Lat</th>\n",
              "      <th>Pickup Long</th>\n",
              "      <th>Destination Lat</th>\n",
              "      <th>Destination Long</th>\n",
              "      <th>Rider Id</th>\n",
              "      <th>Time from Pickup to Arrival</th>\n",
              "      <th>No_Of_Orders</th>\n",
              "      <th>Age</th>\n",
              "      <th>Average_Rating</th>\n",
              "      <th>No_of_Ratings</th>\n",
              "    </tr>\n",
              "    <tr>\n",
              "      <th>Order No</th>\n",
              "      <th></th>\n",
              "      <th></th>\n",
              "      <th></th>\n",
              "      <th></th>\n",
              "      <th></th>\n",
              "      <th></th>\n",
              "      <th></th>\n",
              "      <th></th>\n",
              "      <th></th>\n",
              "      <th></th>\n",
              "      <th></th>\n",
              "      <th></th>\n",
              "      <th></th>\n",
              "      <th></th>\n",
              "      <th></th>\n",
              "      <th></th>\n",
              "      <th></th>\n",
              "      <th></th>\n",
              "      <th></th>\n",
              "      <th></th>\n",
              "      <th></th>\n",
              "    </tr>\n",
              "  </thead>\n",
              "  <tbody>\n",
              "    <tr>\n",
              "      <th>Order_No_4211</th>\n",
              "      <td>3</td>\n",
              "      <td>Business</td>\n",
              "      <td>9:35:46 AM</td>\n",
              "      <td>9:40:10 AM</td>\n",
              "      <td>9</td>\n",
              "      <td>10:04:47 AM</td>\n",
              "      <td>9</td>\n",
              "      <td>5</td>\n",
              "      <td>10:27:30 AM</td>\n",
              "      <td>4</td>\n",
              "      <td>20.4</td>\n",
              "      <td>-1.317755</td>\n",
              "      <td>36.830370</td>\n",
              "      <td>-1.300406</td>\n",
              "      <td>36.829741</td>\n",
              "      <td>Rider_Id_432</td>\n",
              "      <td>745</td>\n",
              "      <td>1637</td>\n",
              "      <td>1309</td>\n",
              "      <td>13.8</td>\n",
              "      <td>549</td>\n",
              "    </tr>\n",
              "    <tr>\n",
              "      <th>Order_No_27440</th>\n",
              "      <td>3</td>\n",
              "      <td>Personal</td>\n",
              "      <td>3:41:17 PM</td>\n",
              "      <td>3:41:30 PM</td>\n",
              "      <td>18</td>\n",
              "      <td>4:07:16 PM</td>\n",
              "      <td>18</td>\n",
              "      <td>5</td>\n",
              "      <td>4:13:37 PM</td>\n",
              "      <td>20</td>\n",
              "      <td>24.5</td>\n",
              "      <td>-1.326774</td>\n",
              "      <td>36.787807</td>\n",
              "      <td>-1.356237</td>\n",
              "      <td>36.904295</td>\n",
              "      <td>Rider_Id_432</td>\n",
              "      <td>2886</td>\n",
              "      <td>1637</td>\n",
              "      <td>1309</td>\n",
              "      <td>13.8</td>\n",
              "      <td>549</td>\n",
              "    </tr>\n",
              "    <tr>\n",
              "      <th>Order_No_14170</th>\n",
              "      <td>3</td>\n",
              "      <td>Business</td>\n",
              "      <td>12:51:41 PM</td>\n",
              "      <td>1:12:49 PM</td>\n",
              "      <td>31</td>\n",
              "      <td>1:20:02 PM</td>\n",
              "      <td>31</td>\n",
              "      <td>5</td>\n",
              "      <td>1:33:08 PM</td>\n",
              "      <td>6</td>\n",
              "      <td>24.7</td>\n",
              "      <td>-1.255189</td>\n",
              "      <td>36.782203</td>\n",
              "      <td>-1.273412</td>\n",
              "      <td>36.818206</td>\n",
              "      <td>Rider_Id_432</td>\n",
              "      <td>2615</td>\n",
              "      <td>1637</td>\n",
              "      <td>1309</td>\n",
              "      <td>13.8</td>\n",
              "      <td>549</td>\n",
              "    </tr>\n",
              "    <tr>\n",
              "      <th>Order_No_21727</th>\n",
              "      <td>3</td>\n",
              "      <td>Personal</td>\n",
              "      <td>7:12:10 AM</td>\n",
              "      <td>7:12:29 AM</td>\n",
              "      <td>2</td>\n",
              "      <td>7:35:24 AM</td>\n",
              "      <td>2</td>\n",
              "      <td>2</td>\n",
              "      <td>7:38:46 AM</td>\n",
              "      <td>18</td>\n",
              "      <td>15.2</td>\n",
              "      <td>-1.290315</td>\n",
              "      <td>36.757377</td>\n",
              "      <td>-1.223520</td>\n",
              "      <td>36.802061</td>\n",
              "      <td>Rider_Id_432</td>\n",
              "      <td>2986</td>\n",
              "      <td>1637</td>\n",
              "      <td>1309</td>\n",
              "      <td>13.8</td>\n",
              "      <td>549</td>\n",
              "    </tr>\n",
              "    <tr>\n",
              "      <th>Order_No_8301</th>\n",
              "      <td>2</td>\n",
              "      <td>Personal</td>\n",
              "      <td>10:40:58 AM</td>\n",
              "      <td>10:42:24 AM</td>\n",
              "      <td>22</td>\n",
              "      <td>10:56:00 AM</td>\n",
              "      <td>22</td>\n",
              "      <td>2</td>\n",
              "      <td>10:59:40 AM</td>\n",
              "      <td>7</td>\n",
              "      <td>19.2</td>\n",
              "      <td>-1.273524</td>\n",
              "      <td>36.799220</td>\n",
              "      <td>-1.300431</td>\n",
              "      <td>36.752427</td>\n",
              "      <td>Rider_Id_432</td>\n",
              "      <td>1602</td>\n",
              "      <td>1637</td>\n",
              "      <td>1309</td>\n",
              "      <td>13.8</td>\n",
              "      <td>549</td>\n",
              "    </tr>\n",
              "  </tbody>\n",
              "</table>\n",
              "</div>"
            ],
            "text/plain": [
              "                Platform Type  ... No_of_Ratings\n",
              "Order No                       ...              \n",
              "Order_No_4211               3  ...           549\n",
              "Order_No_27440              3  ...           549\n",
              "Order_No_14170              3  ...           549\n",
              "Order_No_21727              3  ...           549\n",
              "Order_No_8301               2  ...           549\n",
              "\n",
              "[5 rows x 21 columns]"
            ]
          },
          "metadata": {
            "tags": []
          },
          "execution_count": 18
        }
      ]
    },
    {
      "cell_type": "code",
      "metadata": {
        "id": "zrfMHOD6VC4W",
        "colab_type": "code",
        "colab": {}
      },
      "source": [
        "#Train_df['Placement - Day of Month'] = Train_df['Placement - Day of Month'].astype('int')\n",
        "#Test_df['Placement - Day of Month'] = Test_df['Placement - Day of Month'].astype('int')"
      ],
      "execution_count": 19,
      "outputs": []
    },
    {
      "cell_type": "code",
      "metadata": {
        "id": "lM6E87ClVKQ6",
        "colab_type": "code",
        "colab": {
          "base_uri": "https://localhost:8080/",
          "height": 493
        },
        "outputId": "9aacf9d6-7f9c-4920-8a7f-0407866687cf"
      },
      "source": [
        "Train_df.info()"
      ],
      "execution_count": 20,
      "outputs": [
        {
          "output_type": "stream",
          "text": [
            "<class 'pandas.core.frame.DataFrame'>\n",
            "Index: 21201 entries, Order_No_4211 to Order_No_15578\n",
            "Data columns (total 21 columns):\n",
            " #   Column                            Non-Null Count  Dtype  \n",
            "---  ------                            --------------  -----  \n",
            " 0   Platform Type                     21201 non-null  int64  \n",
            " 1   Personal or Business              21201 non-null  object \n",
            " 2   Placement - Time                  21201 non-null  object \n",
            " 3   Confirmation - Time               21201 non-null  object \n",
            " 4   Arrival at Pickup - Day of Month  21201 non-null  int64  \n",
            " 5   Arrival at Pickup - Time          21201 non-null  object \n",
            " 6   Pickup - Day of Month             21201 non-null  int64  \n",
            " 7   Pickup - Weekday (Mo = 1)         21201 non-null  int64  \n",
            " 8   Pickup - Time                     21201 non-null  object \n",
            " 9   Distance (KM)                     21201 non-null  int64  \n",
            " 10  Temperature                       16835 non-null  float64\n",
            " 11  Pickup Lat                        21201 non-null  float64\n",
            " 12  Pickup Long                       21201 non-null  float64\n",
            " 13  Destination Lat                   21201 non-null  float64\n",
            " 14  Destination Long                  21201 non-null  float64\n",
            " 15  Rider Id                          21201 non-null  object \n",
            " 16  Time from Pickup to Arrival       21201 non-null  int64  \n",
            " 17  No_Of_Orders                      21201 non-null  int64  \n",
            " 18  Age                               21201 non-null  int64  \n",
            " 19  Average_Rating                    21201 non-null  float64\n",
            " 20  No_of_Ratings                     21201 non-null  int64  \n",
            "dtypes: float64(6), int64(9), object(6)\n",
            "memory usage: 3.6+ MB\n"
          ],
          "name": "stdout"
        }
      ]
    },
    {
      "cell_type": "code",
      "metadata": {
        "id": "eo3YT8YGVgnc",
        "colab_type": "code",
        "colab": {}
      },
      "source": [
        "  def timeconvert(df,Time):\n",
        "    df[Time] = df[Time].astype('datetime64')\n",
        "    return df"
      ],
      "execution_count": 21,
      "outputs": []
    },
    {
      "cell_type": "code",
      "metadata": {
        "id": "uW8YWJ1RVlpO",
        "colab_type": "code",
        "colab": {}
      },
      "source": [
        "Time_columns = ['Placement - Time', 'Confirmation - Time',\n",
        "                'Arrival at Pickup - Time','Pickup - Time']\n",
        "Train_df = timeconvert(Train_df,Time_columns)\n",
        "Test_df = timeconvert(Test_df,Time_columns)"
      ],
      "execution_count": 22,
      "outputs": []
    },
    {
      "cell_type": "code",
      "metadata": {
        "id": "0DdLBfSuVrHK",
        "colab_type": "code",
        "colab": {
          "base_uri": "https://localhost:8080/",
          "height": 315
        },
        "outputId": "662c7280-de75-4715-f744-b86ef0d17f77"
      },
      "source": [
        "Train_df.head(2)"
      ],
      "execution_count": 23,
      "outputs": [
        {
          "output_type": "execute_result",
          "data": {
            "text/html": [
              "<div>\n",
              "<style scoped>\n",
              "    .dataframe tbody tr th:only-of-type {\n",
              "        vertical-align: middle;\n",
              "    }\n",
              "\n",
              "    .dataframe tbody tr th {\n",
              "        vertical-align: top;\n",
              "    }\n",
              "\n",
              "    .dataframe thead th {\n",
              "        text-align: right;\n",
              "    }\n",
              "</style>\n",
              "<table border=\"1\" class=\"dataframe\">\n",
              "  <thead>\n",
              "    <tr style=\"text-align: right;\">\n",
              "      <th></th>\n",
              "      <th>Platform Type</th>\n",
              "      <th>Personal or Business</th>\n",
              "      <th>Placement - Time</th>\n",
              "      <th>Confirmation - Time</th>\n",
              "      <th>Arrival at Pickup - Day of Month</th>\n",
              "      <th>Arrival at Pickup - Time</th>\n",
              "      <th>Pickup - Day of Month</th>\n",
              "      <th>Pickup - Weekday (Mo = 1)</th>\n",
              "      <th>Pickup - Time</th>\n",
              "      <th>Distance (KM)</th>\n",
              "      <th>Temperature</th>\n",
              "      <th>Pickup Lat</th>\n",
              "      <th>Pickup Long</th>\n",
              "      <th>Destination Lat</th>\n",
              "      <th>Destination Long</th>\n",
              "      <th>Rider Id</th>\n",
              "      <th>Time from Pickup to Arrival</th>\n",
              "      <th>No_Of_Orders</th>\n",
              "      <th>Age</th>\n",
              "      <th>Average_Rating</th>\n",
              "      <th>No_of_Ratings</th>\n",
              "    </tr>\n",
              "    <tr>\n",
              "      <th>Order No</th>\n",
              "      <th></th>\n",
              "      <th></th>\n",
              "      <th></th>\n",
              "      <th></th>\n",
              "      <th></th>\n",
              "      <th></th>\n",
              "      <th></th>\n",
              "      <th></th>\n",
              "      <th></th>\n",
              "      <th></th>\n",
              "      <th></th>\n",
              "      <th></th>\n",
              "      <th></th>\n",
              "      <th></th>\n",
              "      <th></th>\n",
              "      <th></th>\n",
              "      <th></th>\n",
              "      <th></th>\n",
              "      <th></th>\n",
              "      <th></th>\n",
              "      <th></th>\n",
              "    </tr>\n",
              "  </thead>\n",
              "  <tbody>\n",
              "    <tr>\n",
              "      <th>Order_No_4211</th>\n",
              "      <td>3</td>\n",
              "      <td>Business</td>\n",
              "      <td>2020-09-02 09:35:46</td>\n",
              "      <td>2020-09-02 09:40:10</td>\n",
              "      <td>9</td>\n",
              "      <td>2020-09-02 10:04:47</td>\n",
              "      <td>9</td>\n",
              "      <td>5</td>\n",
              "      <td>2020-09-02 10:27:30</td>\n",
              "      <td>4</td>\n",
              "      <td>20.4</td>\n",
              "      <td>-1.317755</td>\n",
              "      <td>36.830370</td>\n",
              "      <td>-1.300406</td>\n",
              "      <td>36.829741</td>\n",
              "      <td>Rider_Id_432</td>\n",
              "      <td>745</td>\n",
              "      <td>1637</td>\n",
              "      <td>1309</td>\n",
              "      <td>13.8</td>\n",
              "      <td>549</td>\n",
              "    </tr>\n",
              "    <tr>\n",
              "      <th>Order_No_27440</th>\n",
              "      <td>3</td>\n",
              "      <td>Personal</td>\n",
              "      <td>2020-09-02 15:41:17</td>\n",
              "      <td>2020-09-02 15:41:30</td>\n",
              "      <td>18</td>\n",
              "      <td>2020-09-02 16:07:16</td>\n",
              "      <td>18</td>\n",
              "      <td>5</td>\n",
              "      <td>2020-09-02 16:13:37</td>\n",
              "      <td>20</td>\n",
              "      <td>24.5</td>\n",
              "      <td>-1.326774</td>\n",
              "      <td>36.787807</td>\n",
              "      <td>-1.356237</td>\n",
              "      <td>36.904295</td>\n",
              "      <td>Rider_Id_432</td>\n",
              "      <td>2886</td>\n",
              "      <td>1637</td>\n",
              "      <td>1309</td>\n",
              "      <td>13.8</td>\n",
              "      <td>549</td>\n",
              "    </tr>\n",
              "  </tbody>\n",
              "</table>\n",
              "</div>"
            ],
            "text/plain": [
              "                Platform Type  ... No_of_Ratings\n",
              "Order No                       ...              \n",
              "Order_No_4211               3  ...           549\n",
              "Order_No_27440              3  ...           549\n",
              "\n",
              "[2 rows x 21 columns]"
            ]
          },
          "metadata": {
            "tags": []
          },
          "execution_count": 23
        }
      ]
    },
    {
      "cell_type": "markdown",
      "metadata": {
        "id": "oQSo2Ls8WHr9",
        "colab_type": "text"
      },
      "source": [
        "**Setting Time columns into datetime Data type**"
      ]
    },
    {
      "cell_type": "code",
      "metadata": {
        "id": "liInZiO6WDrs",
        "colab_type": "code",
        "colab": {}
      },
      "source": [
        "def splitDatetime(df,columns):\n",
        "  for item in columns:\n",
        "    #df[item+'_day'] = pd.to_datetime(df[item]).dt.day\n",
        "    df[item+'_hour'] = pd.to_datetime(df[item]).dt.hour\n",
        "    df[item+'_minutes'] = pd.to_datetime(df[item]).dt.minute\n",
        "    df[item+'_seconds'] = pd.to_datetime(df[item]).dt.second\n",
        "  df.drop(columns,axis=1, inplace = True)\n",
        "  return df"
      ],
      "execution_count": 24,
      "outputs": []
    },
    {
      "cell_type": "code",
      "metadata": {
        "id": "5IuzTfMWWXZ7",
        "colab_type": "code",
        "colab": {}
      },
      "source": [
        "Time_columns = ['Placement - Time', 'Confirmation - Time',\n",
        "                'Arrival at Pickup - Time','Pickup - Time']\n",
        "Train_df = splitDatetime(Train_df,Time_columns)\n",
        "Test_df = splitDatetime(Test_df,Time_columns)"
      ],
      "execution_count": 25,
      "outputs": []
    },
    {
      "cell_type": "code",
      "metadata": {
        "id": "WdQ1OGSjWlD-",
        "colab_type": "code",
        "colab": {
          "base_uri": "https://localhost:8080/",
          "height": 247
        },
        "outputId": "220ea898-2f35-40e3-a8c2-7d11a70a6a97"
      },
      "source": [
        "Train_df.head(2)"
      ],
      "execution_count": 26,
      "outputs": [
        {
          "output_type": "execute_result",
          "data": {
            "text/html": [
              "<div>\n",
              "<style scoped>\n",
              "    .dataframe tbody tr th:only-of-type {\n",
              "        vertical-align: middle;\n",
              "    }\n",
              "\n",
              "    .dataframe tbody tr th {\n",
              "        vertical-align: top;\n",
              "    }\n",
              "\n",
              "    .dataframe thead th {\n",
              "        text-align: right;\n",
              "    }\n",
              "</style>\n",
              "<table border=\"1\" class=\"dataframe\">\n",
              "  <thead>\n",
              "    <tr style=\"text-align: right;\">\n",
              "      <th></th>\n",
              "      <th>Platform Type</th>\n",
              "      <th>Personal or Business</th>\n",
              "      <th>Arrival at Pickup - Day of Month</th>\n",
              "      <th>Pickup - Day of Month</th>\n",
              "      <th>Pickup - Weekday (Mo = 1)</th>\n",
              "      <th>Distance (KM)</th>\n",
              "      <th>Temperature</th>\n",
              "      <th>Pickup Lat</th>\n",
              "      <th>Pickup Long</th>\n",
              "      <th>Destination Lat</th>\n",
              "      <th>Destination Long</th>\n",
              "      <th>Rider Id</th>\n",
              "      <th>Time from Pickup to Arrival</th>\n",
              "      <th>No_Of_Orders</th>\n",
              "      <th>Age</th>\n",
              "      <th>Average_Rating</th>\n",
              "      <th>No_of_Ratings</th>\n",
              "      <th>Placement - Time_hour</th>\n",
              "      <th>Placement - Time_minutes</th>\n",
              "      <th>Placement - Time_seconds</th>\n",
              "      <th>Confirmation - Time_hour</th>\n",
              "      <th>Confirmation - Time_minutes</th>\n",
              "      <th>Confirmation - Time_seconds</th>\n",
              "      <th>Arrival at Pickup - Time_hour</th>\n",
              "      <th>Arrival at Pickup - Time_minutes</th>\n",
              "      <th>Arrival at Pickup - Time_seconds</th>\n",
              "      <th>Pickup - Time_hour</th>\n",
              "      <th>Pickup - Time_minutes</th>\n",
              "      <th>Pickup - Time_seconds</th>\n",
              "    </tr>\n",
              "    <tr>\n",
              "      <th>Order No</th>\n",
              "      <th></th>\n",
              "      <th></th>\n",
              "      <th></th>\n",
              "      <th></th>\n",
              "      <th></th>\n",
              "      <th></th>\n",
              "      <th></th>\n",
              "      <th></th>\n",
              "      <th></th>\n",
              "      <th></th>\n",
              "      <th></th>\n",
              "      <th></th>\n",
              "      <th></th>\n",
              "      <th></th>\n",
              "      <th></th>\n",
              "      <th></th>\n",
              "      <th></th>\n",
              "      <th></th>\n",
              "      <th></th>\n",
              "      <th></th>\n",
              "      <th></th>\n",
              "      <th></th>\n",
              "      <th></th>\n",
              "      <th></th>\n",
              "      <th></th>\n",
              "      <th></th>\n",
              "      <th></th>\n",
              "      <th></th>\n",
              "      <th></th>\n",
              "    </tr>\n",
              "  </thead>\n",
              "  <tbody>\n",
              "    <tr>\n",
              "      <th>Order_No_4211</th>\n",
              "      <td>3</td>\n",
              "      <td>Business</td>\n",
              "      <td>9</td>\n",
              "      <td>9</td>\n",
              "      <td>5</td>\n",
              "      <td>4</td>\n",
              "      <td>20.4</td>\n",
              "      <td>-1.317755</td>\n",
              "      <td>36.830370</td>\n",
              "      <td>-1.300406</td>\n",
              "      <td>36.829741</td>\n",
              "      <td>Rider_Id_432</td>\n",
              "      <td>745</td>\n",
              "      <td>1637</td>\n",
              "      <td>1309</td>\n",
              "      <td>13.8</td>\n",
              "      <td>549</td>\n",
              "      <td>9</td>\n",
              "      <td>35</td>\n",
              "      <td>46</td>\n",
              "      <td>9</td>\n",
              "      <td>40</td>\n",
              "      <td>10</td>\n",
              "      <td>10</td>\n",
              "      <td>4</td>\n",
              "      <td>47</td>\n",
              "      <td>10</td>\n",
              "      <td>27</td>\n",
              "      <td>30</td>\n",
              "    </tr>\n",
              "    <tr>\n",
              "      <th>Order_No_27440</th>\n",
              "      <td>3</td>\n",
              "      <td>Personal</td>\n",
              "      <td>18</td>\n",
              "      <td>18</td>\n",
              "      <td>5</td>\n",
              "      <td>20</td>\n",
              "      <td>24.5</td>\n",
              "      <td>-1.326774</td>\n",
              "      <td>36.787807</td>\n",
              "      <td>-1.356237</td>\n",
              "      <td>36.904295</td>\n",
              "      <td>Rider_Id_432</td>\n",
              "      <td>2886</td>\n",
              "      <td>1637</td>\n",
              "      <td>1309</td>\n",
              "      <td>13.8</td>\n",
              "      <td>549</td>\n",
              "      <td>15</td>\n",
              "      <td>41</td>\n",
              "      <td>17</td>\n",
              "      <td>15</td>\n",
              "      <td>41</td>\n",
              "      <td>30</td>\n",
              "      <td>16</td>\n",
              "      <td>7</td>\n",
              "      <td>16</td>\n",
              "      <td>16</td>\n",
              "      <td>13</td>\n",
              "      <td>37</td>\n",
              "    </tr>\n",
              "  </tbody>\n",
              "</table>\n",
              "</div>"
            ],
            "text/plain": [
              "                Platform Type  ... Pickup - Time_seconds\n",
              "Order No                       ...                      \n",
              "Order_No_4211               3  ...                    30\n",
              "Order_No_27440              3  ...                    37\n",
              "\n",
              "[2 rows x 29 columns]"
            ]
          },
          "metadata": {
            "tags": []
          },
          "execution_count": 26
        }
      ]
    },
    {
      "cell_type": "code",
      "metadata": {
        "id": "QA3EXdgtW47E",
        "colab_type": "code",
        "colab": {
          "base_uri": "https://localhost:8080/",
          "height": 629
        },
        "outputId": "648fe0c8-4bee-41aa-8a08-12221fb54eac"
      },
      "source": [
        "Train_df.info()"
      ],
      "execution_count": 27,
      "outputs": [
        {
          "output_type": "stream",
          "text": [
            "<class 'pandas.core.frame.DataFrame'>\n",
            "Index: 21201 entries, Order_No_4211 to Order_No_15578\n",
            "Data columns (total 29 columns):\n",
            " #   Column                            Non-Null Count  Dtype  \n",
            "---  ------                            --------------  -----  \n",
            " 0   Platform Type                     21201 non-null  int64  \n",
            " 1   Personal or Business              21201 non-null  object \n",
            " 2   Arrival at Pickup - Day of Month  21201 non-null  int64  \n",
            " 3   Pickup - Day of Month             21201 non-null  int64  \n",
            " 4   Pickup - Weekday (Mo = 1)         21201 non-null  int64  \n",
            " 5   Distance (KM)                     21201 non-null  int64  \n",
            " 6   Temperature                       16835 non-null  float64\n",
            " 7   Pickup Lat                        21201 non-null  float64\n",
            " 8   Pickup Long                       21201 non-null  float64\n",
            " 9   Destination Lat                   21201 non-null  float64\n",
            " 10  Destination Long                  21201 non-null  float64\n",
            " 11  Rider Id                          21201 non-null  object \n",
            " 12  Time from Pickup to Arrival       21201 non-null  int64  \n",
            " 13  No_Of_Orders                      21201 non-null  int64  \n",
            " 14  Age                               21201 non-null  int64  \n",
            " 15  Average_Rating                    21201 non-null  float64\n",
            " 16  No_of_Ratings                     21201 non-null  int64  \n",
            " 17  Placement - Time_hour             21201 non-null  int64  \n",
            " 18  Placement - Time_minutes          21201 non-null  int64  \n",
            " 19  Placement - Time_seconds          21201 non-null  int64  \n",
            " 20  Confirmation - Time_hour          21201 non-null  int64  \n",
            " 21  Confirmation - Time_minutes       21201 non-null  int64  \n",
            " 22  Confirmation - Time_seconds       21201 non-null  int64  \n",
            " 23  Arrival at Pickup - Time_hour     21201 non-null  int64  \n",
            " 24  Arrival at Pickup - Time_minutes  21201 non-null  int64  \n",
            " 25  Arrival at Pickup - Time_seconds  21201 non-null  int64  \n",
            " 26  Pickup - Time_hour                21201 non-null  int64  \n",
            " 27  Pickup - Time_minutes             21201 non-null  int64  \n",
            " 28  Pickup - Time_seconds             21201 non-null  int64  \n",
            "dtypes: float64(6), int64(21), object(2)\n",
            "memory usage: 4.9+ MB\n"
          ],
          "name": "stdout"
        }
      ]
    },
    {
      "cell_type": "markdown",
      "metadata": {
        "id": "FcI3dsQPYTJ7",
        "colab_type": "text"
      },
      "source": [
        "**Taking Care of Missing Data**"
      ]
    },
    {
      "cell_type": "code",
      "metadata": {
        "id": "zgSrQJURYXcX",
        "colab_type": "code",
        "colab": {}
      },
      "source": [
        "from sklearn.impute import SimpleImputer\n",
        "\n",
        "def missingData(df,columns):\n",
        "  imputer = SimpleImputer(missing_values=np.nan, strategy='mean')\n",
        "  imputer.fit(df[columns])\n",
        "  df[columns] = imputer.transform(df[columns])\n",
        "  return df"
      ],
      "execution_count": 28,
      "outputs": []
    },
    {
      "cell_type": "code",
      "metadata": {
        "id": "_Wy-8pzAYgnx",
        "colab_type": "code",
        "colab": {}
      },
      "source": [
        "columns = ['Temperature']\n",
        "Test_df = missingData(Test_df,columns)\n",
        "Train_df = missingData(Train_df,columns)"
      ],
      "execution_count": 29,
      "outputs": []
    },
    {
      "cell_type": "code",
      "metadata": {
        "id": "Zk4Z7kcoYrDY",
        "colab_type": "code",
        "colab": {
          "base_uri": "https://localhost:8080/",
          "height": 629
        },
        "outputId": "bcda8204-a1c4-4f48-d9ac-02ac22927d20"
      },
      "source": [
        "Train_df.info()"
      ],
      "execution_count": 30,
      "outputs": [
        {
          "output_type": "stream",
          "text": [
            "<class 'pandas.core.frame.DataFrame'>\n",
            "Index: 21201 entries, Order_No_4211 to Order_No_15578\n",
            "Data columns (total 29 columns):\n",
            " #   Column                            Non-Null Count  Dtype  \n",
            "---  ------                            --------------  -----  \n",
            " 0   Platform Type                     21201 non-null  int64  \n",
            " 1   Personal or Business              21201 non-null  object \n",
            " 2   Arrival at Pickup - Day of Month  21201 non-null  int64  \n",
            " 3   Pickup - Day of Month             21201 non-null  int64  \n",
            " 4   Pickup - Weekday (Mo = 1)         21201 non-null  int64  \n",
            " 5   Distance (KM)                     21201 non-null  int64  \n",
            " 6   Temperature                       21201 non-null  float64\n",
            " 7   Pickup Lat                        21201 non-null  float64\n",
            " 8   Pickup Long                       21201 non-null  float64\n",
            " 9   Destination Lat                   21201 non-null  float64\n",
            " 10  Destination Long                  21201 non-null  float64\n",
            " 11  Rider Id                          21201 non-null  object \n",
            " 12  Time from Pickup to Arrival       21201 non-null  int64  \n",
            " 13  No_Of_Orders                      21201 non-null  int64  \n",
            " 14  Age                               21201 non-null  int64  \n",
            " 15  Average_Rating                    21201 non-null  float64\n",
            " 16  No_of_Ratings                     21201 non-null  int64  \n",
            " 17  Placement - Time_hour             21201 non-null  int64  \n",
            " 18  Placement - Time_minutes          21201 non-null  int64  \n",
            " 19  Placement - Time_seconds          21201 non-null  int64  \n",
            " 20  Confirmation - Time_hour          21201 non-null  int64  \n",
            " 21  Confirmation - Time_minutes       21201 non-null  int64  \n",
            " 22  Confirmation - Time_seconds       21201 non-null  int64  \n",
            " 23  Arrival at Pickup - Time_hour     21201 non-null  int64  \n",
            " 24  Arrival at Pickup - Time_minutes  21201 non-null  int64  \n",
            " 25  Arrival at Pickup - Time_seconds  21201 non-null  int64  \n",
            " 26  Pickup - Time_hour                21201 non-null  int64  \n",
            " 27  Pickup - Time_minutes             21201 non-null  int64  \n",
            " 28  Pickup - Time_seconds             21201 non-null  int64  \n",
            "dtypes: float64(6), int64(21), object(2)\n",
            "memory usage: 4.9+ MB\n"
          ],
          "name": "stdout"
        }
      ]
    },
    {
      "cell_type": "markdown",
      "metadata": {
        "id": "SQunVuOKZ2N4",
        "colab_type": "text"
      },
      "source": [
        "**Get dummy Variables**"
      ]
    },
    {
      "cell_type": "code",
      "metadata": {
        "id": "bwPLPeA2Z9Il",
        "colab_type": "code",
        "colab": {}
      },
      "source": [
        "def dummy_encoder(df, cols):\n",
        "  dummies = pd.get_dummies(df,columns= cols,drop_first = True)\n",
        "  merged = pd.concat([df,dummies],axis='columns')\n",
        "  final = merged.drop(cols, axis = 1)\n",
        "  return dummies"
      ],
      "execution_count": 31,
      "outputs": []
    },
    {
      "cell_type": "code",
      "metadata": {
        "id": "e2CjpCVZaFUv",
        "colab_type": "code",
        "colab": {
          "base_uri": "https://localhost:8080/",
          "height": 245
        },
        "outputId": "fb5aac43-b4bb-4f56-c8a0-89eaf8bac3a1"
      },
      "source": [
        "cols = ['Platform Type','Personal or Business','Rider Id']\n",
        "Train_df = dummy_encoder(Train_df, cols)\n",
        "Test_df = dummy_encoder(Test_df, cols)\n",
        "Test_df.head(1)"
      ],
      "execution_count": 32,
      "outputs": [
        {
          "output_type": "execute_result",
          "data": {
            "text/html": [
              "<div>\n",
              "<style scoped>\n",
              "    .dataframe tbody tr th:only-of-type {\n",
              "        vertical-align: middle;\n",
              "    }\n",
              "\n",
              "    .dataframe tbody tr th {\n",
              "        vertical-align: top;\n",
              "    }\n",
              "\n",
              "    .dataframe thead th {\n",
              "        text-align: right;\n",
              "    }\n",
              "</style>\n",
              "<table border=\"1\" class=\"dataframe\">\n",
              "  <thead>\n",
              "    <tr style=\"text-align: right;\">\n",
              "      <th></th>\n",
              "      <th>Placement - Weekday (Mo = 1)</th>\n",
              "      <th>Arrival at Pickup - Day of Month</th>\n",
              "      <th>Pickup - Day of Month</th>\n",
              "      <th>Pickup - Weekday (Mo = 1)</th>\n",
              "      <th>Distance (KM)</th>\n",
              "      <th>Temperature</th>\n",
              "      <th>Pickup Lat</th>\n",
              "      <th>Pickup Long</th>\n",
              "      <th>Destination Lat</th>\n",
              "      <th>Destination Long</th>\n",
              "      <th>No_Of_Orders</th>\n",
              "      <th>Age</th>\n",
              "      <th>Average_Rating</th>\n",
              "      <th>No_of_Ratings</th>\n",
              "      <th>Placement - Time_hour</th>\n",
              "      <th>Placement - Time_minutes</th>\n",
              "      <th>Placement - Time_seconds</th>\n",
              "      <th>Confirmation - Time_hour</th>\n",
              "      <th>Confirmation - Time_minutes</th>\n",
              "      <th>Confirmation - Time_seconds</th>\n",
              "      <th>Arrival at Pickup - Time_hour</th>\n",
              "      <th>Arrival at Pickup - Time_minutes</th>\n",
              "      <th>Arrival at Pickup - Time_seconds</th>\n",
              "      <th>Pickup - Time_hour</th>\n",
              "      <th>Pickup - Time_minutes</th>\n",
              "      <th>Pickup - Time_seconds</th>\n",
              "      <th>Platform Type_2</th>\n",
              "      <th>Platform Type_3</th>\n",
              "      <th>Platform Type_4</th>\n",
              "      <th>Personal or Business_Personal</th>\n",
              "      <th>Rider Id_Rider_Id_100</th>\n",
              "      <th>Rider Id_Rider_Id_101</th>\n",
              "      <th>Rider Id_Rider_Id_102</th>\n",
              "      <th>Rider Id_Rider_Id_103</th>\n",
              "      <th>Rider Id_Rider_Id_105</th>\n",
              "      <th>Rider Id_Rider_Id_106</th>\n",
              "      <th>Rider Id_Rider_Id_107</th>\n",
              "      <th>Rider Id_Rider_Id_108</th>\n",
              "      <th>Rider Id_Rider_Id_109</th>\n",
              "      <th>Rider Id_Rider_Id_11</th>\n",
              "      <th>...</th>\n",
              "      <th>Rider Id_Rider_Id_92</th>\n",
              "      <th>Rider Id_Rider_Id_920</th>\n",
              "      <th>Rider Id_Rider_Id_921</th>\n",
              "      <th>Rider Id_Rider_Id_923</th>\n",
              "      <th>Rider Id_Rider_Id_924</th>\n",
              "      <th>Rider Id_Rider_Id_925</th>\n",
              "      <th>Rider Id_Rider_Id_926</th>\n",
              "      <th>Rider Id_Rider_Id_927</th>\n",
              "      <th>Rider Id_Rider_Id_928</th>\n",
              "      <th>Rider Id_Rider_Id_929</th>\n",
              "      <th>Rider Id_Rider_Id_930</th>\n",
              "      <th>Rider Id_Rider_Id_931</th>\n",
              "      <th>Rider Id_Rider_Id_932</th>\n",
              "      <th>Rider Id_Rider_Id_933</th>\n",
              "      <th>Rider Id_Rider_Id_935</th>\n",
              "      <th>Rider Id_Rider_Id_936</th>\n",
              "      <th>Rider Id_Rider_Id_937</th>\n",
              "      <th>Rider Id_Rider_Id_938</th>\n",
              "      <th>Rider Id_Rider_Id_939</th>\n",
              "      <th>Rider Id_Rider_Id_940</th>\n",
              "      <th>Rider Id_Rider_Id_941</th>\n",
              "      <th>Rider Id_Rider_Id_942</th>\n",
              "      <th>Rider Id_Rider_Id_943</th>\n",
              "      <th>Rider Id_Rider_Id_945</th>\n",
              "      <th>Rider Id_Rider_Id_947</th>\n",
              "      <th>Rider Id_Rider_Id_948</th>\n",
              "      <th>Rider Id_Rider_Id_949</th>\n",
              "      <th>Rider Id_Rider_Id_95</th>\n",
              "      <th>Rider Id_Rider_Id_951</th>\n",
              "      <th>Rider Id_Rider_Id_952</th>\n",
              "      <th>Rider Id_Rider_Id_953</th>\n",
              "      <th>Rider Id_Rider_Id_955</th>\n",
              "      <th>Rider Id_Rider_Id_956</th>\n",
              "      <th>Rider Id_Rider_Id_957</th>\n",
              "      <th>Rider Id_Rider_Id_958</th>\n",
              "      <th>Rider Id_Rider_Id_959</th>\n",
              "      <th>Rider Id_Rider_Id_96</th>\n",
              "      <th>Rider Id_Rider_Id_97</th>\n",
              "      <th>Rider Id_Rider_Id_98</th>\n",
              "      <th>Rider Id_Rider_Id_99</th>\n",
              "    </tr>\n",
              "    <tr>\n",
              "      <th>Order No</th>\n",
              "      <th></th>\n",
              "      <th></th>\n",
              "      <th></th>\n",
              "      <th></th>\n",
              "      <th></th>\n",
              "      <th></th>\n",
              "      <th></th>\n",
              "      <th></th>\n",
              "      <th></th>\n",
              "      <th></th>\n",
              "      <th></th>\n",
              "      <th></th>\n",
              "      <th></th>\n",
              "      <th></th>\n",
              "      <th></th>\n",
              "      <th></th>\n",
              "      <th></th>\n",
              "      <th></th>\n",
              "      <th></th>\n",
              "      <th></th>\n",
              "      <th></th>\n",
              "      <th></th>\n",
              "      <th></th>\n",
              "      <th></th>\n",
              "      <th></th>\n",
              "      <th></th>\n",
              "      <th></th>\n",
              "      <th></th>\n",
              "      <th></th>\n",
              "      <th></th>\n",
              "      <th></th>\n",
              "      <th></th>\n",
              "      <th></th>\n",
              "      <th></th>\n",
              "      <th></th>\n",
              "      <th></th>\n",
              "      <th></th>\n",
              "      <th></th>\n",
              "      <th></th>\n",
              "      <th></th>\n",
              "      <th></th>\n",
              "      <th></th>\n",
              "      <th></th>\n",
              "      <th></th>\n",
              "      <th></th>\n",
              "      <th></th>\n",
              "      <th></th>\n",
              "      <th></th>\n",
              "      <th></th>\n",
              "      <th></th>\n",
              "      <th></th>\n",
              "      <th></th>\n",
              "      <th></th>\n",
              "      <th></th>\n",
              "      <th></th>\n",
              "      <th></th>\n",
              "      <th></th>\n",
              "      <th></th>\n",
              "      <th></th>\n",
              "      <th></th>\n",
              "      <th></th>\n",
              "      <th></th>\n",
              "      <th></th>\n",
              "      <th></th>\n",
              "      <th></th>\n",
              "      <th></th>\n",
              "      <th></th>\n",
              "      <th></th>\n",
              "      <th></th>\n",
              "      <th></th>\n",
              "      <th></th>\n",
              "      <th></th>\n",
              "      <th></th>\n",
              "      <th></th>\n",
              "      <th></th>\n",
              "      <th></th>\n",
              "      <th></th>\n",
              "      <th></th>\n",
              "      <th></th>\n",
              "      <th></th>\n",
              "      <th></th>\n",
              "    </tr>\n",
              "  </thead>\n",
              "  <tbody>\n",
              "    <tr>\n",
              "      <th>Order_No_19248</th>\n",
              "      <td>3</td>\n",
              "      <td>27</td>\n",
              "      <td>27</td>\n",
              "      <td>3</td>\n",
              "      <td>8</td>\n",
              "      <td>23.24612</td>\n",
              "      <td>-1.333275</td>\n",
              "      <td>36.870815</td>\n",
              "      <td>-1.305249</td>\n",
              "      <td>36.82239</td>\n",
              "      <td>439</td>\n",
              "      <td>1511</td>\n",
              "      <td>13.3</td>\n",
              "      <td>171</td>\n",
              "      <td>16</td>\n",
              "      <td>44</td>\n",
              "      <td>10</td>\n",
              "      <td>16</td>\n",
              "      <td>44</td>\n",
              "      <td>29</td>\n",
              "      <td>16</td>\n",
              "      <td>53</td>\n",
              "      <td>4</td>\n",
              "      <td>17</td>\n",
              "      <td>6</td>\n",
              "      <td>47</td>\n",
              "      <td>0</td>\n",
              "      <td>1</td>\n",
              "      <td>0</td>\n",
              "      <td>0</td>\n",
              "      <td>0</td>\n",
              "      <td>0</td>\n",
              "      <td>0</td>\n",
              "      <td>0</td>\n",
              "      <td>0</td>\n",
              "      <td>0</td>\n",
              "      <td>0</td>\n",
              "      <td>0</td>\n",
              "      <td>0</td>\n",
              "      <td>0</td>\n",
              "      <td>...</td>\n",
              "      <td>0</td>\n",
              "      <td>0</td>\n",
              "      <td>0</td>\n",
              "      <td>0</td>\n",
              "      <td>0</td>\n",
              "      <td>0</td>\n",
              "      <td>0</td>\n",
              "      <td>0</td>\n",
              "      <td>0</td>\n",
              "      <td>0</td>\n",
              "      <td>0</td>\n",
              "      <td>0</td>\n",
              "      <td>0</td>\n",
              "      <td>0</td>\n",
              "      <td>0</td>\n",
              "      <td>0</td>\n",
              "      <td>0</td>\n",
              "      <td>0</td>\n",
              "      <td>0</td>\n",
              "      <td>0</td>\n",
              "      <td>0</td>\n",
              "      <td>0</td>\n",
              "      <td>0</td>\n",
              "      <td>0</td>\n",
              "      <td>0</td>\n",
              "      <td>0</td>\n",
              "      <td>0</td>\n",
              "      <td>0</td>\n",
              "      <td>0</td>\n",
              "      <td>0</td>\n",
              "      <td>0</td>\n",
              "      <td>0</td>\n",
              "      <td>0</td>\n",
              "      <td>0</td>\n",
              "      <td>0</td>\n",
              "      <td>0</td>\n",
              "      <td>0</td>\n",
              "      <td>0</td>\n",
              "      <td>0</td>\n",
              "      <td>0</td>\n",
              "    </tr>\n",
              "  </tbody>\n",
              "</table>\n",
              "<p>1 rows × 851 columns</p>\n",
              "</div>"
            ],
            "text/plain": [
              "                Placement - Weekday (Mo = 1)  ...  Rider Id_Rider_Id_99\n",
              "Order No                                      ...                      \n",
              "Order_No_19248                             3  ...                     0\n",
              "\n",
              "[1 rows x 851 columns]"
            ]
          },
          "metadata": {
            "tags": []
          },
          "execution_count": 32
        }
      ]
    },
    {
      "cell_type": "code",
      "metadata": {
        "id": "GqNfPOezdCGw",
        "colab_type": "code",
        "colab": {}
      },
      "source": [
        "#Getting our Training Data into Features and Response variables"
      ],
      "execution_count": 33,
      "outputs": []
    },
    {
      "cell_type": "code",
      "metadata": {
        "id": "dBrFhQSWdFkV",
        "colab_type": "code",
        "colab": {}
      },
      "source": [
        "def XyFeatures(df):\n",
        "  X = df.drop(['Time from Pickup to Arrival'], axis=1)\n",
        "  y = df[['Time from Pickup to Arrival']]\n",
        "  return (X,y)"
      ],
      "execution_count": 34,
      "outputs": []
    },
    {
      "cell_type": "code",
      "metadata": {
        "id": "xZ6-Gz4sdNnT",
        "colab_type": "code",
        "colab": {}
      },
      "source": [
        "X = XyFeatures(Train_df)[0]\n",
        "y = XyFeatures(Train_df)[1]"
      ],
      "execution_count": 35,
      "outputs": []
    },
    {
      "cell_type": "code",
      "metadata": {
        "id": "EVAs7P0UdS2s",
        "colab_type": "code",
        "colab": {
          "base_uri": "https://localhost:8080/",
          "height": 102
        },
        "outputId": "b7d5f179-a7ad-4cfa-c75b-f434c84585bd"
      },
      "source": [
        "X.info()"
      ],
      "execution_count": 36,
      "outputs": [
        {
          "output_type": "stream",
          "text": [
            "<class 'pandas.core.frame.DataFrame'>\n",
            "Index: 21201 entries, Order_No_4211 to Order_No_15578\n",
            "Columns: 952 entries, Arrival at Pickup - Day of Month to Rider Id_Rider_Id_99\n",
            "dtypes: float64(6), int64(19), uint8(927)\n",
            "memory usage: 22.9+ MB\n"
          ],
          "name": "stdout"
        }
      ]
    },
    {
      "cell_type": "markdown",
      "metadata": {
        "id": "ifhq72fsdjMj",
        "colab_type": "text"
      },
      "source": [
        "**Spliting Data into Training and Test Set**"
      ]
    },
    {
      "cell_type": "code",
      "metadata": {
        "id": "VuHjypvNdf_B",
        "colab_type": "code",
        "colab": {}
      },
      "source": [
        "# import train/test split module\n",
        "from sklearn.model_selection import train_test_split"
      ],
      "execution_count": 37,
      "outputs": []
    },
    {
      "cell_type": "code",
      "metadata": {
        "id": "fNet6Zthdvbh",
        "colab_type": "code",
        "colab": {}
      },
      "source": [
        "# split dataset into train and test sets\n",
        "X_train, X_test, y_train, y_test = train_test_split(X,\n",
        "                                                    y,\n",
        "                                                    test_size=0.20,\n",
        "                                                    random_state=1)"
      ],
      "execution_count": 38,
      "outputs": []
    },
    {
      "cell_type": "markdown",
      "metadata": {
        "id": "SK59P5-NeNWU",
        "colab_type": "text"
      },
      "source": [
        "#Building Lasso Model"
      ]
    },
    {
      "cell_type": "code",
      "metadata": {
        "id": "LNZnDBcaeWkU",
        "colab_type": "code",
        "colab": {}
      },
      "source": [
        "# import LASSO module\n",
        "from sklearn.linear_model import Lasso"
      ],
      "execution_count": 39,
      "outputs": []
    },
    {
      "cell_type": "code",
      "metadata": {
        "id": "Pe-VEg_UeaLh",
        "colab_type": "code",
        "colab": {
          "base_uri": "https://localhost:8080/",
          "height": 122
        },
        "outputId": "a5f1fb96-89d3-4f49-b4d9-f5df30ba9ce5"
      },
      "source": [
        "# create LASSO model object, setting alpha to 0.01\n",
        "lasso = Lasso(alpha=0.01)\n",
        "# train the LASSO model\n",
        "lasso.fit(X_train, y_train)"
      ],
      "execution_count": 40,
      "outputs": [
        {
          "output_type": "stream",
          "text": [
            "/usr/local/lib/python3.6/dist-packages/sklearn/linear_model/_coordinate_descent.py:476: ConvergenceWarning: Objective did not converge. You might want to increase the number of iterations. Duality gap: 4374064787.932671, tolerance: 1628236.6795614152\n",
            "  positive)\n"
          ],
          "name": "stderr"
        },
        {
          "output_type": "execute_result",
          "data": {
            "text/plain": [
              "Lasso(alpha=0.01, copy_X=True, fit_intercept=True, max_iter=1000,\n",
              "      normalize=False, positive=False, precompute=False, random_state=None,\n",
              "      selection='cyclic', tol=0.0001, warm_start=False)"
            ]
          },
          "metadata": {
            "tags": []
          },
          "execution_count": 40
        }
      ]
    },
    {
      "cell_type": "code",
      "metadata": {
        "id": "hzRm7_cW6yXH",
        "colab_type": "code",
        "colab": {}
      },
      "source": [
        "coeff = pd.DataFrame(lasso.coef_, X.columns, columns=['Coefficient'])"
      ],
      "execution_count": 41,
      "outputs": []
    },
    {
      "cell_type": "code",
      "metadata": {
        "id": "EP16eif4612Q",
        "colab_type": "code",
        "colab": {
          "base_uri": "https://localhost:8080/",
          "height": 1000
        },
        "outputId": "3785be2c-a8cb-450a-81c8-ef81679d7c49"
      },
      "source": [
        "coeff.tail(40)"
      ],
      "execution_count": 42,
      "outputs": [
        {
          "output_type": "execute_result",
          "data": {
            "text/html": [
              "<div>\n",
              "<style scoped>\n",
              "    .dataframe tbody tr th:only-of-type {\n",
              "        vertical-align: middle;\n",
              "    }\n",
              "\n",
              "    .dataframe tbody tr th {\n",
              "        vertical-align: top;\n",
              "    }\n",
              "\n",
              "    .dataframe thead th {\n",
              "        text-align: right;\n",
              "    }\n",
              "</style>\n",
              "<table border=\"1\" class=\"dataframe\">\n",
              "  <thead>\n",
              "    <tr style=\"text-align: right;\">\n",
              "      <th></th>\n",
              "      <th>Coefficient</th>\n",
              "    </tr>\n",
              "  </thead>\n",
              "  <tbody>\n",
              "    <tr>\n",
              "      <th>Rider Id_Rider_Id_925</th>\n",
              "      <td>218.542231</td>\n",
              "    </tr>\n",
              "    <tr>\n",
              "      <th>Rider Id_Rider_Id_926</th>\n",
              "      <td>157.982255</td>\n",
              "    </tr>\n",
              "    <tr>\n",
              "      <th>Rider Id_Rider_Id_927</th>\n",
              "      <td>-848.932542</td>\n",
              "    </tr>\n",
              "    <tr>\n",
              "      <th>Rider Id_Rider_Id_928</th>\n",
              "      <td>606.228579</td>\n",
              "    </tr>\n",
              "    <tr>\n",
              "      <th>Rider Id_Rider_Id_929</th>\n",
              "      <td>422.696965</td>\n",
              "    </tr>\n",
              "    <tr>\n",
              "      <th>Rider Id_Rider_Id_93</th>\n",
              "      <td>0.000000</td>\n",
              "    </tr>\n",
              "    <tr>\n",
              "      <th>Rider Id_Rider_Id_930</th>\n",
              "      <td>122.491969</td>\n",
              "    </tr>\n",
              "    <tr>\n",
              "      <th>Rider Id_Rider_Id_931</th>\n",
              "      <td>-3.271096</td>\n",
              "    </tr>\n",
              "    <tr>\n",
              "      <th>Rider Id_Rider_Id_932</th>\n",
              "      <td>-274.532516</td>\n",
              "    </tr>\n",
              "    <tr>\n",
              "      <th>Rider Id_Rider_Id_933</th>\n",
              "      <td>10.565044</td>\n",
              "    </tr>\n",
              "    <tr>\n",
              "      <th>Rider Id_Rider_Id_934</th>\n",
              "      <td>756.562472</td>\n",
              "    </tr>\n",
              "    <tr>\n",
              "      <th>Rider Id_Rider_Id_935</th>\n",
              "      <td>286.030125</td>\n",
              "    </tr>\n",
              "    <tr>\n",
              "      <th>Rider Id_Rider_Id_936</th>\n",
              "      <td>257.430977</td>\n",
              "    </tr>\n",
              "    <tr>\n",
              "      <th>Rider Id_Rider_Id_937</th>\n",
              "      <td>109.689210</td>\n",
              "    </tr>\n",
              "    <tr>\n",
              "      <th>Rider Id_Rider_Id_938</th>\n",
              "      <td>368.606912</td>\n",
              "    </tr>\n",
              "    <tr>\n",
              "      <th>Rider Id_Rider_Id_939</th>\n",
              "      <td>454.557309</td>\n",
              "    </tr>\n",
              "    <tr>\n",
              "      <th>Rider Id_Rider_Id_94</th>\n",
              "      <td>0.000000</td>\n",
              "    </tr>\n",
              "    <tr>\n",
              "      <th>Rider Id_Rider_Id_940</th>\n",
              "      <td>-486.978087</td>\n",
              "    </tr>\n",
              "    <tr>\n",
              "      <th>Rider Id_Rider_Id_941</th>\n",
              "      <td>-484.208602</td>\n",
              "    </tr>\n",
              "    <tr>\n",
              "      <th>Rider Id_Rider_Id_942</th>\n",
              "      <td>400.065374</td>\n",
              "    </tr>\n",
              "    <tr>\n",
              "      <th>Rider Id_Rider_Id_943</th>\n",
              "      <td>-386.658151</td>\n",
              "    </tr>\n",
              "    <tr>\n",
              "      <th>Rider Id_Rider_Id_944</th>\n",
              "      <td>-0.000000</td>\n",
              "    </tr>\n",
              "    <tr>\n",
              "      <th>Rider Id_Rider_Id_946</th>\n",
              "      <td>-177.954726</td>\n",
              "    </tr>\n",
              "    <tr>\n",
              "      <th>Rider Id_Rider_Id_947</th>\n",
              "      <td>-1931.553291</td>\n",
              "    </tr>\n",
              "    <tr>\n",
              "      <th>Rider Id_Rider_Id_948</th>\n",
              "      <td>439.663327</td>\n",
              "    </tr>\n",
              "    <tr>\n",
              "      <th>Rider Id_Rider_Id_949</th>\n",
              "      <td>509.896628</td>\n",
              "    </tr>\n",
              "    <tr>\n",
              "      <th>Rider Id_Rider_Id_95</th>\n",
              "      <td>67.275595</td>\n",
              "    </tr>\n",
              "    <tr>\n",
              "      <th>Rider Id_Rider_Id_950</th>\n",
              "      <td>-144.126871</td>\n",
              "    </tr>\n",
              "    <tr>\n",
              "      <th>Rider Id_Rider_Id_951</th>\n",
              "      <td>-0.000000</td>\n",
              "    </tr>\n",
              "    <tr>\n",
              "      <th>Rider Id_Rider_Id_952</th>\n",
              "      <td>-85.212098</td>\n",
              "    </tr>\n",
              "    <tr>\n",
              "      <th>Rider Id_Rider_Id_953</th>\n",
              "      <td>-259.646345</td>\n",
              "    </tr>\n",
              "    <tr>\n",
              "      <th>Rider Id_Rider_Id_954</th>\n",
              "      <td>54.214366</td>\n",
              "    </tr>\n",
              "    <tr>\n",
              "      <th>Rider Id_Rider_Id_955</th>\n",
              "      <td>-352.501519</td>\n",
              "    </tr>\n",
              "    <tr>\n",
              "      <th>Rider Id_Rider_Id_956</th>\n",
              "      <td>255.030328</td>\n",
              "    </tr>\n",
              "    <tr>\n",
              "      <th>Rider Id_Rider_Id_958</th>\n",
              "      <td>-68.096309</td>\n",
              "    </tr>\n",
              "    <tr>\n",
              "      <th>Rider Id_Rider_Id_959</th>\n",
              "      <td>24.824122</td>\n",
              "    </tr>\n",
              "    <tr>\n",
              "      <th>Rider Id_Rider_Id_96</th>\n",
              "      <td>-212.514970</td>\n",
              "    </tr>\n",
              "    <tr>\n",
              "      <th>Rider Id_Rider_Id_97</th>\n",
              "      <td>-541.143409</td>\n",
              "    </tr>\n",
              "    <tr>\n",
              "      <th>Rider Id_Rider_Id_98</th>\n",
              "      <td>-0.000000</td>\n",
              "    </tr>\n",
              "    <tr>\n",
              "      <th>Rider Id_Rider_Id_99</th>\n",
              "      <td>102.455001</td>\n",
              "    </tr>\n",
              "  </tbody>\n",
              "</table>\n",
              "</div>"
            ],
            "text/plain": [
              "                       Coefficient\n",
              "Rider Id_Rider_Id_925   218.542231\n",
              "Rider Id_Rider_Id_926   157.982255\n",
              "Rider Id_Rider_Id_927  -848.932542\n",
              "Rider Id_Rider_Id_928   606.228579\n",
              "Rider Id_Rider_Id_929   422.696965\n",
              "Rider Id_Rider_Id_93      0.000000\n",
              "Rider Id_Rider_Id_930   122.491969\n",
              "Rider Id_Rider_Id_931    -3.271096\n",
              "Rider Id_Rider_Id_932  -274.532516\n",
              "Rider Id_Rider_Id_933    10.565044\n",
              "Rider Id_Rider_Id_934   756.562472\n",
              "Rider Id_Rider_Id_935   286.030125\n",
              "Rider Id_Rider_Id_936   257.430977\n",
              "Rider Id_Rider_Id_937   109.689210\n",
              "Rider Id_Rider_Id_938   368.606912\n",
              "Rider Id_Rider_Id_939   454.557309\n",
              "Rider Id_Rider_Id_94      0.000000\n",
              "Rider Id_Rider_Id_940  -486.978087\n",
              "Rider Id_Rider_Id_941  -484.208602\n",
              "Rider Id_Rider_Id_942   400.065374\n",
              "Rider Id_Rider_Id_943  -386.658151\n",
              "Rider Id_Rider_Id_944    -0.000000\n",
              "Rider Id_Rider_Id_946  -177.954726\n",
              "Rider Id_Rider_Id_947 -1931.553291\n",
              "Rider Id_Rider_Id_948   439.663327\n",
              "Rider Id_Rider_Id_949   509.896628\n",
              "Rider Id_Rider_Id_95     67.275595\n",
              "Rider Id_Rider_Id_950  -144.126871\n",
              "Rider Id_Rider_Id_951    -0.000000\n",
              "Rider Id_Rider_Id_952   -85.212098\n",
              "Rider Id_Rider_Id_953  -259.646345\n",
              "Rider Id_Rider_Id_954    54.214366\n",
              "Rider Id_Rider_Id_955  -352.501519\n",
              "Rider Id_Rider_Id_956   255.030328\n",
              "Rider Id_Rider_Id_958   -68.096309\n",
              "Rider Id_Rider_Id_959    24.824122\n",
              "Rider Id_Rider_Id_96   -212.514970\n",
              "Rider Id_Rider_Id_97   -541.143409\n",
              "Rider Id_Rider_Id_98     -0.000000\n",
              "Rider Id_Rider_Id_99    102.455001"
            ]
          },
          "metadata": {
            "tags": []
          },
          "execution_count": 42
        }
      ]
    },
    {
      "cell_type": "code",
      "metadata": {
        "id": "4mf5Gk6-lCh_",
        "colab_type": "code",
        "colab": {}
      },
      "source": [
        "def subset(df):\n",
        "  sub = Train_df.drop(coeff[coeff==0].index,axis = 1)\n",
        "  return sub"
      ],
      "execution_count": 43,
      "outputs": []
    },
    {
      "cell_type": "code",
      "metadata": {
        "id": "beNaC4RFlm5r",
        "colab_type": "code",
        "colab": {}
      },
      "source": [
        "X_train_subset = subset(X)\n",
        "X_test_subset = subset(Test_df)"
      ],
      "execution_count": 44,
      "outputs": []
    },
    {
      "cell_type": "code",
      "metadata": {
        "id": "IZvWphh3lIrX",
        "colab_type": "code",
        "colab": {}
      },
      "source": [
        "X_train2, X_test2, y_train2, y_test2 = train_test_split(X_train_subset,\n",
        "                                                        y,\n",
        "                                                        test_size=0.20,\n",
        "                                                        random_state=1,\n",
        "                                                        shuffle=False)"
      ],
      "execution_count": 45,
      "outputs": []
    },
    {
      "cell_type": "code",
      "metadata": {
        "id": "LIHyA7aQhY-y",
        "colab_type": "code",
        "colab": {}
      },
      "source": [
        "from sklearn.linear_model import LinearRegression, Ridge"
      ],
      "execution_count": 46,
      "outputs": []
    },
    {
      "cell_type": "code",
      "metadata": {
        "id": "Pmzm6x8SmSVi",
        "colab_type": "code",
        "colab": {
          "base_uri": "https://localhost:8080/",
          "height": 51
        },
        "outputId": "e6499350-35f0-4613-fb11-d3700c7c95f4"
      },
      "source": [
        "subset_regressor = LinearRegression()\n",
        "regressor = LinearRegression()\n",
        "ridge = Ridge()\n",
        "\n",
        "subset_regressor.fit(X_train2, y_train2)\n",
        "regressor.fit(X_train, y_train)\n",
        "ridge.fit(X_train, y_train)"
      ],
      "execution_count": 47,
      "outputs": [
        {
          "output_type": "execute_result",
          "data": {
            "text/plain": [
              "Ridge(alpha=1.0, copy_X=True, fit_intercept=True, max_iter=None,\n",
              "      normalize=False, random_state=None, solver='auto', tol=0.001)"
            ]
          },
          "metadata": {
            "tags": []
          },
          "execution_count": 47
        }
      ]
    },
    {
      "cell_type": "code",
      "metadata": {
        "id": "7u8F2fExhggT",
        "colab_type": "code",
        "colab": {}
      },
      "source": [
        "subset_y_pred = subset_regressor.predict(X_test2)\n",
        "\n",
        "lasso_y_pred = lasso.predict(X_test)\n",
        "ridge_y_pred = ridge.predict(X_test)\n",
        "regressor_y_pred = regressor.predict(X_test)"
      ],
      "execution_count": 48,
      "outputs": []
    },
    {
      "cell_type": "code",
      "metadata": {
        "id": "_y0Vridbhl0W",
        "colab_type": "code",
        "colab": {}
      },
      "source": [
        "from sklearn.metrics import mean_squared_error\n",
        "lasso_rmse = mean_squared_error(y_test, lasso_y_pred, squared= False)"
      ],
      "execution_count": 49,
      "outputs": []
    },
    {
      "cell_type": "code",
      "metadata": {
        "id": "wKEirq2fhtGM",
        "colab_type": "code",
        "colab": {
          "base_uri": "https://localhost:8080/",
          "height": 34
        },
        "outputId": "7f8c016a-d90f-402e-d4fd-6e904a13cefe"
      },
      "source": [
        "lasso_rmse"
      ],
      "execution_count": 50,
      "outputs": [
        {
          "output_type": "execute_result",
          "data": {
            "text/plain": [
              "797.3297295115548"
            ]
          },
          "metadata": {
            "tags": []
          },
          "execution_count": 50
        }
      ]
    },
    {
      "cell_type": "code",
      "metadata": {
        "id": "6e1ZFnemn-iU",
        "colab_type": "code",
        "colab": {}
      },
      "source": [
        "lasso_rmse = mean_squared_error(y_test, lasso_y_pred, squared= False)\n",
        "regressor_rmse = mean_squared_error(y_test, regressor_y_pred, squared= False)\n",
        "subset_rmse = mean_squared_error(y_test, regressor_y_pred, squared= False)\n",
        "ridge_rmse = mean_squared_error(y_test, ridge_y_pred, squared= False)"
      ],
      "execution_count": 51,
      "outputs": []
    },
    {
      "cell_type": "code",
      "metadata": {
        "id": "1xsz8Dc0oQRT",
        "colab_type": "code",
        "colab": {
          "base_uri": "https://localhost:8080/",
          "height": 34
        },
        "outputId": "64d98a2a-c42d-4683-8e66-660d93b56c95"
      },
      "source": [
        "regressor_rmse"
      ],
      "execution_count": 52,
      "outputs": [
        {
          "output_type": "execute_result",
          "data": {
            "text/plain": [
              "12073426592.029665"
            ]
          },
          "metadata": {
            "tags": []
          },
          "execution_count": 52
        }
      ]
    },
    {
      "cell_type": "code",
      "metadata": {
        "id": "LBkcTC0RoT9q",
        "colab_type": "code",
        "colab": {
          "base_uri": "https://localhost:8080/",
          "height": 34
        },
        "outputId": "4d1e6355-0b7a-4478-c9cb-b56f2f243ca6"
      },
      "source": [
        "subset_rmse"
      ],
      "execution_count": 53,
      "outputs": [
        {
          "output_type": "execute_result",
          "data": {
            "text/plain": [
              "12073426592.029665"
            ]
          },
          "metadata": {
            "tags": []
          },
          "execution_count": 53
        }
      ]
    },
    {
      "cell_type": "code",
      "metadata": {
        "id": "V-MtsclboYoz",
        "colab_type": "code",
        "colab": {
          "base_uri": "https://localhost:8080/",
          "height": 34
        },
        "outputId": "a8571861-324f-4a1b-e456-e8531e8fb411"
      },
      "source": [
        "ridge_rmse"
      ],
      "execution_count": 54,
      "outputs": [
        {
          "output_type": "execute_result",
          "data": {
            "text/plain": [
              "792.2109827431813"
            ]
          },
          "metadata": {
            "tags": []
          },
          "execution_count": 54
        }
      ]
    }
  ]
}