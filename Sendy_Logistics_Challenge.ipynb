{
  "nbformat": 4,
  "nbformat_minor": 0,
  "metadata": {
    "colab": {
      "name": "Sendy Logistics Challenge.ipynb",
      "provenance": [],
      "collapsed_sections": [],
      "toc_visible": true,
      "authorship_tag": "ABX9TyNsqfXsD6l11grNbOmkCrm7",
      "include_colab_link": true
    },
    "kernelspec": {
      "name": "python3",
      "display_name": "Python 3"
    }
  },
  "cells": [
    {
      "cell_type": "markdown",
      "metadata": {
        "id": "view-in-github",
        "colab_type": "text"
      },
      "source": [
        "<a href=\"https://colab.research.google.com/github/MathewNhari/Sendy-Logistics-Challenge/blob/master/Sendy_Logistics_Challenge.ipynb\" target=\"_parent\"><img src=\"https://colab.research.google.com/assets/colab-badge.svg\" alt=\"Open In Colab\"/></a>"
      ]
    },
    {
      "cell_type": "markdown",
      "metadata": {
        "id": "eAEJPiY22ucH",
        "colab_type": "text"
      },
      "source": [
        "**Import Libaries**"
      ]
    },
    {
      "cell_type": "code",
      "metadata": {
        "id": "oC1UFVWk0s8e",
        "colab_type": "code",
        "colab": {}
      },
      "source": [
        "import numpy as np\n",
        "import matplotlib.pyplot as plt\n",
        "import pandas as pd"
      ],
      "execution_count": null,
      "outputs": []
    },
    {
      "cell_type": "markdown",
      "metadata": {
        "id": "7TIS5NJA0-iY",
        "colab_type": "text"
      },
      "source": [
        "Import Data"
      ]
    },
    {
      "cell_type": "code",
      "metadata": {
        "id": "eyAPvuXH1DKC",
        "colab_type": "code",
        "colab": {}
      },
      "source": [
        "\n",
        "riders = pd.read_csv('Riders.csv')\n",
        "SampleSubmission = pd.read_csv('SampleSubmission.csv')\n",
        "Test_df = pd.read_csv('Test.csv')\n",
        "Train_df = pd.read_csv('Train.csv')\n",
        "VariableDefinitions = pd.read_csv('VariableDefinitions.csv')"
      ],
      "execution_count": null,
      "outputs": []
    },
    {
      "cell_type": "markdown",
      "metadata": {
        "id": "C7sHDW-c3JXM",
        "colab_type": "text"
      },
      "source": [
        "**Variable Definations**"
      ]
    },
    {
      "cell_type": "code",
      "metadata": {
        "id": "UG8I3z-03SHR",
        "colab_type": "code",
        "colab": {}
      },
      "source": [
        "VariableDefinitions"
      ],
      "execution_count": null,
      "outputs": []
    },
    {
      "cell_type": "markdown",
      "metadata": {
        "id": "ONXnswQt4Kt2",
        "colab_type": "text"
      },
      "source": [
        "**Sample Submission**"
      ]
    },
    {
      "cell_type": "code",
      "metadata": {
        "id": "NGwXW7Qh4Sbx",
        "colab_type": "code",
        "colab": {}
      },
      "source": [
        "SampleSubmission.head()"
      ],
      "execution_count": null,
      "outputs": []
    },
    {
      "cell_type": "markdown",
      "metadata": {
        "id": "jZOp7noZ3ykQ",
        "colab_type": "text"
      },
      "source": [
        "**Data**"
      ]
    },
    {
      "cell_type": "code",
      "metadata": {
        "id": "akQzVOlf30_d",
        "colab_type": "code",
        "colab": {}
      },
      "source": [
        "riders.head()"
      ],
      "execution_count": null,
      "outputs": []
    },
    {
      "cell_type": "code",
      "metadata": {
        "id": "FumhU4C14F-u",
        "colab_type": "code",
        "colab": {}
      },
      "source": [
        "Test_df.head()"
      ],
      "execution_count": null,
      "outputs": []
    },
    {
      "cell_type": "code",
      "metadata": {
        "id": "J439-aCN4roG",
        "colab_type": "code",
        "colab": {}
      },
      "source": [
        "Train_df.head()"
      ],
      "execution_count": null,
      "outputs": []
    },
    {
      "cell_type": "markdown",
      "metadata": {
        "id": "9xAyuXMsLMaA",
        "colab_type": "text"
      },
      "source": [
        "Joining the Test_df and Train_df to riders "
      ]
    },
    {
      "cell_type": "code",
      "metadata": {
        "id": "o6tbEhCWLdzJ",
        "colab_type": "code",
        "colab": {}
      },
      "source": [
        "Test = Test_df.merge(riders,on='Rider Id',how='inner')\n",
        "Train = Train_df.merge(riders,on='Rider Id',how='inner')\n",
        "Train.head()"
      ],
      "execution_count": null,
      "outputs": []
    },
    {
      "cell_type": "markdown",
      "metadata": {
        "id": "TzcCvcK7SfSG",
        "colab_type": "text"
      },
      "source": [
        "# **Cleaning Data**\n"
      ]
    },
    {
      "cell_type": "markdown",
      "metadata": {
        "id": "vntq8PVWyE59",
        "colab_type": "text"
      },
      "source": [
        "Checking for Duplicates"
      ]
    },
    {
      "cell_type": "code",
      "metadata": {
        "id": "osEhxc07yM2h",
        "colab_type": "code",
        "colab": {}
      },
      "source": [
        "#No duplicate Data On Test Data\n",
        "def Check_duplicates(df):\n",
        "  duplicates = df.duplicated(subset = ['Order No'], keep = False)\n",
        "  return df[duplicates]"
      ],
      "execution_count": null,
      "outputs": []
    },
    {
      "cell_type": "markdown",
      "metadata": {
        "id": "GvyAkWMp2Dej",
        "colab_type": "text"
      },
      "source": [
        "Checking Duplicates on Train Data"
      ]
    },
    {
      "cell_type": "code",
      "metadata": {
        "id": "kXP-H2U715YU",
        "colab_type": "code",
        "colab": {}
      },
      "source": [
        "#No duplicates \n",
        "Train_duplicates = Check_duplicates(Train)\n",
        "Test_duplucates = Check_duplicates(Test)"
      ],
      "execution_count": null,
      "outputs": []
    },
    {
      "cell_type": "markdown",
      "metadata": {
        "id": "9q1hck66ATEi",
        "colab_type": "text"
      },
      "source": [
        "**Changing  into The Correct DataType**"
      ]
    },
    {
      "cell_type": "code",
      "metadata": {
        "id": "Cj0eN4XnAgEY",
        "colab_type": "code",
        "colab": {}
      },
      "source": [
        " category_cols = ['Platform Type', 'Placement - Day of Month', 'Placement - Weekday (Mo = 1)',\n",
        "       'Confirmation - Day of Month', 'Confirmation - Weekday (Mo = 1)', 'Arrival at Pickup - Day of Month',\n",
        "       'Arrival at Pickup - Weekday (Mo = 1)', 'Pickup - Day of Month', 'Pickup - Weekday (Mo = 1)', 'Vehicle Type', 'Personal or Business']\n",
        "       \n",
        "Train[category_cols] = Train[category_cols].astype('category')\n",
        "Test[category_cols] = Test[category_cols].astype('category')\n"
      ],
      "execution_count": null,
      "outputs": []
    },
    {
      "cell_type": "markdown",
      "metadata": {
        "id": "_bJFvhWPrAhu",
        "colab_type": "text"
      },
      "source": [
        "Setting Time columns into datetime Data type\n"
      ]
    },
    {
      "cell_type": "code",
      "metadata": {
        "id": "XrZA9M6grNzE",
        "colab_type": "code",
        "colab": {}
      },
      "source": [
        "def timeconvert(df,Time_Cols):\n",
        "  for item in Time_Cols:\n",
        "    df[item] = (pd.to_datetime(df[item].str.strip(), format='%I:%M:%S %p').dt.strftime('%H:%M:%S'))\n",
        "  df[Time_Cols] = df[Time_Cols].astype('datetime64')\n",
        "  return df\n",
        "    "
      ],
      "execution_count": null,
      "outputs": []
    },
    {
      "cell_type": "code",
      "metadata": {
        "id": "1O-vBs6i1Avj",
        "colab_type": "code",
        "colab": {}
      },
      "source": [
        "#Getting all time columns into a list\n",
        "Test_Cols = ['Placement - Time', 'Confirmation - Time', 'Arrival at Pickup - Time', 'Pickup - Time']\n",
        "Train_Cols = ['Placement - Time', 'Confirmation - Time', 'Arrival at Pickup - Time', 'Pickup - Time','Arrival at Destination - Time']\n",
        "Train = timeconvert(Train,Train_Cols)\n",
        "Test = timeconvert(Test,Test_Cols)\n"
      ],
      "execution_count": null,
      "outputs": []
    },
    {
      "cell_type": "code",
      "metadata": {
        "id": "AaUWyjEgALlg",
        "colab_type": "code",
        "colab": {}
      },
      "source": [
        "Test.head()"
      ],
      "execution_count": null,
      "outputs": []
    },
    {
      "cell_type": "code",
      "metadata": {
        "id": "HlQxmECSHnKh",
        "colab_type": "code",
        "colab": {}
      },
      "source": [
        "Train.info()"
      ],
      "execution_count": null,
      "outputs": []
    },
    {
      "cell_type": "markdown",
      "metadata": {
        "id": "iQJpN5XmlKfl",
        "colab_type": "text"
      },
      "source": [
        "# **PreProcessing**"
      ]
    },
    {
      "cell_type": "markdown",
      "metadata": {
        "id": "IvhuCN7Vm8vF",
        "colab_type": "text"
      },
      "source": [
        "Getting our Training Data into Features and Response variables\n"
      ]
    },
    {
      "cell_type": "code",
      "metadata": {
        "id": "DGAQzysgnI7K",
        "colab_type": "code",
        "colab": {}
      },
      "source": [
        "X = Train.drop(['Time from Pickup to Arrival'], axis=1)\n",
        "y = Train[['Time from Pickup to Arrival']]"
      ],
      "execution_count": null,
      "outputs": []
    },
    {
      "cell_type": "markdown",
      "metadata": {
        "id": "PlegT9qZl1fR",
        "colab_type": "text"
      },
      "source": [
        "**Taking Care of Missing Data**"
      ]
    },
    {
      "cell_type": "code",
      "metadata": {
        "id": "ijgys1PUl88X",
        "colab_type": "code",
        "colab": {}
      },
      "source": [
        "from sklearn.impute import SimpleImputer\n",
        "imputer = SimpleImputer(missing_values=np.nan, strategy='mean')\n",
        "imputer.fit(X[['Temperature', 'Precipitation in millimeters']])"
      ],
      "execution_count": null,
      "outputs": []
    }
  ]
}