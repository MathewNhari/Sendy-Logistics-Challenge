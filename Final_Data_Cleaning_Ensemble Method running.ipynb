{
  "nbformat": 4,
  "nbformat_minor": 0,
  "metadata": {
    "colab": {
      "name": "Final Data Cleaning Regressor 759.29 Ridge 755.12.ipynb",
      "provenance": [],
      "toc_visible": true,
      "authorship_tag": "ABX9TyMjGNdeDLrSvrTmb10Jt5zw",
      "include_colab_link": true
    },
    "kernelspec": {
      "name": "python3",
      "display_name": "Python 3"
    }
  },
  "cells": [
    {
      "cell_type": "markdown",
      "metadata": {
        "id": "view-in-github",
        "colab_type": "text"
      },
      "source": [
        "<a href=\"https://colab.research.google.com/github/MathewNhari/Sendy-Logistics-Challenge/blob/master/Final_Data_Cleaning_Ensemble%20Method%20running.ipynb\" target=\"_parent\"><img src=\"https://colab.research.google.com/assets/colab-badge.svg\" alt=\"Open In Colab\"/></a>"
      ]
    },
    {
      "cell_type": "markdown",
      "metadata": {
        "id": "_BDSrrqvOJJi",
        "colab_type": "text"
      },
      "source": [
        "#**Importing Libraries**"
      ]
    },
    {
      "cell_type": "code",
      "metadata": {
        "id": "lD2ZrGxxN26j",
        "colab_type": "code",
        "colab": {}
      },
      "source": [
        "import numpy as np\n",
        "import matplotlib.pyplot as plt\n",
        "import pandas as pd"
      ],
      "execution_count": 1,
      "outputs": []
    },
    {
      "cell_type": "markdown",
      "metadata": {
        "id": "lzWXxzu4Od3b",
        "colab_type": "text"
      },
      "source": [
        "#**Importing Data**"
      ]
    },
    {
      "cell_type": "code",
      "metadata": {
        "id": "L-TjolJXOZfv",
        "colab_type": "code",
        "colab": {}
      },
      "source": [
        "riders = pd.read_csv('Riders.csv')\n",
        "SampleSubmission = pd.read_csv('SampleSubmission.csv')\n",
        "Test_df = pd.read_csv('Test.csv')\n",
        "Train_df = pd.read_csv('Train.csv', parse_dates= ['Placement - Day of Month'])\n",
        "VariableDefinitions = pd.read_csv('VariableDefinitions.csv')"
      ],
      "execution_count": 2,
      "outputs": []
    },
    {
      "cell_type": "code",
      "metadata": {
        "id": "LRkSxJf5Okrr",
        "colab_type": "code",
        "colab": {
          "base_uri": "https://localhost:8080/",
          "height": 1000
        },
        "outputId": "18f45cd9-ea95-42e5-841b-8016671d3ec7"
      },
      "source": [
        "VariableDefinitions"
      ],
      "execution_count": 3,
      "outputs": [
        {
          "output_type": "execute_result",
          "data": {
            "text/html": [
              "<div>\n",
              "<style scoped>\n",
              "    .dataframe tbody tr th:only-of-type {\n",
              "        vertical-align: middle;\n",
              "    }\n",
              "\n",
              "    .dataframe tbody tr th {\n",
              "        vertical-align: top;\n",
              "    }\n",
              "\n",
              "    .dataframe thead th {\n",
              "        text-align: right;\n",
              "    }\n",
              "</style>\n",
              "<table border=\"1\" class=\"dataframe\">\n",
              "  <thead>\n",
              "    <tr style=\"text-align: right;\">\n",
              "      <th></th>\n",
              "      <th>Order No</th>\n",
              "      <th>Unique number identifying the order</th>\n",
              "    </tr>\n",
              "  </thead>\n",
              "  <tbody>\n",
              "    <tr>\n",
              "      <th>0</th>\n",
              "      <td>User Id</td>\n",
              "      <td>Unique number identifying the customer on a pl...</td>\n",
              "    </tr>\n",
              "    <tr>\n",
              "      <th>1</th>\n",
              "      <td>Vehicle Type</td>\n",
              "      <td>For this competition limited to bikes, however...</td>\n",
              "    </tr>\n",
              "    <tr>\n",
              "      <th>2</th>\n",
              "      <td>Platform Type</td>\n",
              "      <td>Platform used to place the order, there are 4 ...</td>\n",
              "    </tr>\n",
              "    <tr>\n",
              "      <th>3</th>\n",
              "      <td>Personal or Business</td>\n",
              "      <td>Customer type</td>\n",
              "    </tr>\n",
              "    <tr>\n",
              "      <th>4</th>\n",
              "      <td>Placement - Day of Month</td>\n",
              "      <td>Placement - Day of Month i.e 1-31</td>\n",
              "    </tr>\n",
              "    <tr>\n",
              "      <th>5</th>\n",
              "      <td>Placement - Weekday (Mo = 1)</td>\n",
              "      <td>Placement - Weekday (Monday = 1)</td>\n",
              "    </tr>\n",
              "    <tr>\n",
              "      <th>6</th>\n",
              "      <td>Placement - Time</td>\n",
              "      <td>Placement - Time - Time of day the order was p...</td>\n",
              "    </tr>\n",
              "    <tr>\n",
              "      <th>7</th>\n",
              "      <td>Confirmation - Day of Month</td>\n",
              "      <td>Confirmation - Day of Month i.e 1-31</td>\n",
              "    </tr>\n",
              "    <tr>\n",
              "      <th>8</th>\n",
              "      <td>Confirmation - Weekday (Mo = 1)</td>\n",
              "      <td>Confirmation - Weekday (Monday = 1)</td>\n",
              "    </tr>\n",
              "    <tr>\n",
              "      <th>9</th>\n",
              "      <td>Confirmation - Time</td>\n",
              "      <td>Confirmation - Time - Time of day the order wa...</td>\n",
              "    </tr>\n",
              "    <tr>\n",
              "      <th>10</th>\n",
              "      <td>Arrival at Pickup - Day of Month</td>\n",
              "      <td>Arrival at Pickup - Day of Month i.e 1-31</td>\n",
              "    </tr>\n",
              "    <tr>\n",
              "      <th>11</th>\n",
              "      <td>Arrival at Pickup - Weekday (Mo = 1)</td>\n",
              "      <td>Arrival at Pickup - Weekday (Monday = 1)</td>\n",
              "    </tr>\n",
              "    <tr>\n",
              "      <th>12</th>\n",
              "      <td>Arrival at Pickup - Time</td>\n",
              "      <td>Time of day the the rider arrived at the locat...</td>\n",
              "    </tr>\n",
              "    <tr>\n",
              "      <th>13</th>\n",
              "      <td>Pickup - Day of Month</td>\n",
              "      <td>Pickup - Day of Month i.e 1-31</td>\n",
              "    </tr>\n",
              "    <tr>\n",
              "      <th>14</th>\n",
              "      <td>Pickup - Weekday (Mo = 1)</td>\n",
              "      <td>Pickup - Weekday (Monday = 1)</td>\n",
              "    </tr>\n",
              "    <tr>\n",
              "      <th>15</th>\n",
              "      <td>Pickup - Time</td>\n",
              "      <td>Pickup - Time - Time of day the the rider pick...</td>\n",
              "    </tr>\n",
              "    <tr>\n",
              "      <th>16</th>\n",
              "      <td>Arrival at Destination - Day of Month</td>\n",
              "      <td>Arrival at Delivery - Day of Month i.e 1-31</td>\n",
              "    </tr>\n",
              "    <tr>\n",
              "      <th>17</th>\n",
              "      <td>Arrival at Destination - Weekday (Mo = 1)</td>\n",
              "      <td>Arrival at Delivery - Weekday (Monday = 1)</td>\n",
              "    </tr>\n",
              "    <tr>\n",
              "      <th>18</th>\n",
              "      <td>Arrival at Destination - Time</td>\n",
              "      <td>Arrival at Delivery Time - Time of day the rid...</td>\n",
              "    </tr>\n",
              "    <tr>\n",
              "      <th>19</th>\n",
              "      <td>Distance (KM)</td>\n",
              "      <td>The distance from Pickup to Destination</td>\n",
              "    </tr>\n",
              "    <tr>\n",
              "      <th>20</th>\n",
              "      <td>Temperature</td>\n",
              "      <td>Temperature at the time of order placement in ...</td>\n",
              "    </tr>\n",
              "    <tr>\n",
              "      <th>21</th>\n",
              "      <td>Precipitation in millimeters</td>\n",
              "      <td>Precipitation at the time of order placement ...</td>\n",
              "    </tr>\n",
              "    <tr>\n",
              "      <th>22</th>\n",
              "      <td>Pickup Lat</td>\n",
              "      <td>Latitude of pick up location</td>\n",
              "    </tr>\n",
              "    <tr>\n",
              "      <th>23</th>\n",
              "      <td>Pickup Long</td>\n",
              "      <td>Longitude of pick up location</td>\n",
              "    </tr>\n",
              "    <tr>\n",
              "      <th>24</th>\n",
              "      <td>Destination Lat</td>\n",
              "      <td>Latitude of delivery location</td>\n",
              "    </tr>\n",
              "    <tr>\n",
              "      <th>25</th>\n",
              "      <td>Destination Long</td>\n",
              "      <td>Longitude of delivery location</td>\n",
              "    </tr>\n",
              "    <tr>\n",
              "      <th>26</th>\n",
              "      <td>Rider Id</td>\n",
              "      <td>ID of the Rider who accepted the order</td>\n",
              "    </tr>\n",
              "    <tr>\n",
              "      <th>27</th>\n",
              "      <td>Time from Pickup to Arrival</td>\n",
              "      <td>Time in seconds between 'Pickup' and 'Arrival ...</td>\n",
              "    </tr>\n",
              "    <tr>\n",
              "      <th>28</th>\n",
              "      <td>NaN</td>\n",
              "      <td>NaN</td>\n",
              "    </tr>\n",
              "    <tr>\n",
              "      <th>29</th>\n",
              "      <td>Rider Metrics</td>\n",
              "      <td>NaN</td>\n",
              "    </tr>\n",
              "    <tr>\n",
              "      <th>30</th>\n",
              "      <td>Rider Id</td>\n",
              "      <td>Unique number identifying the rider (same as i...</td>\n",
              "    </tr>\n",
              "    <tr>\n",
              "      <th>31</th>\n",
              "      <td>No_Of_Orders</td>\n",
              "      <td>Number of Orders the rider has delivered</td>\n",
              "    </tr>\n",
              "    <tr>\n",
              "      <th>32</th>\n",
              "      <td>Age</td>\n",
              "      <td>Number of days since the rider delivered the f...</td>\n",
              "    </tr>\n",
              "    <tr>\n",
              "      <th>33</th>\n",
              "      <td>Average_Rating</td>\n",
              "      <td>Average rating of the rider</td>\n",
              "    </tr>\n",
              "    <tr>\n",
              "      <th>34</th>\n",
              "      <td>No_of_Ratings</td>\n",
              "      <td>Number of ratings the rider has received. Rat...</td>\n",
              "    </tr>\n",
              "  </tbody>\n",
              "</table>\n",
              "</div>"
            ],
            "text/plain": [
              "                                     Order No                Unique number identifying the order\n",
              "0                                     User Id  Unique number identifying the customer on a pl...\n",
              "1                                Vehicle Type  For this competition limited to bikes, however...\n",
              "2                               Platform Type  Platform used to place the order, there are 4 ...\n",
              "3                        Personal or Business                                      Customer type\n",
              "4                    Placement - Day of Month                  Placement - Day of Month i.e 1-31\n",
              "5                Placement - Weekday (Mo = 1)                   Placement - Weekday (Monday = 1)\n",
              "6                            Placement - Time  Placement - Time - Time of day the order was p...\n",
              "7                 Confirmation - Day of Month               Confirmation - Day of Month i.e 1-31\n",
              "8             Confirmation - Weekday (Mo = 1)                Confirmation - Weekday (Monday = 1)\n",
              "9                         Confirmation - Time  Confirmation - Time - Time of day the order wa...\n",
              "10           Arrival at Pickup - Day of Month          Arrival at Pickup - Day of Month i.e 1-31\n",
              "11       Arrival at Pickup - Weekday (Mo = 1)           Arrival at Pickup - Weekday (Monday = 1)\n",
              "12                   Arrival at Pickup - Time  Time of day the the rider arrived at the locat...\n",
              "13                      Pickup - Day of Month                     Pickup - Day of Month i.e 1-31\n",
              "14                  Pickup - Weekday (Mo = 1)                      Pickup - Weekday (Monday = 1)\n",
              "15                              Pickup - Time  Pickup - Time - Time of day the the rider pick...\n",
              "16      Arrival at Destination - Day of Month        Arrival at Delivery - Day of Month i.e 1-31\n",
              "17  Arrival at Destination - Weekday (Mo = 1)         Arrival at Delivery - Weekday (Monday = 1)\n",
              "18              Arrival at Destination - Time  Arrival at Delivery Time - Time of day the rid...\n",
              "19                              Distance (KM)            The distance from Pickup to Destination\n",
              "20                                Temperature  Temperature at the time of order placement in ...\n",
              "21               Precipitation in millimeters   Precipitation at the time of order placement ...\n",
              "22                                 Pickup Lat                       Latitude of pick up location\n",
              "23                                Pickup Long                      Longitude of pick up location\n",
              "24                            Destination Lat                      Latitude of delivery location\n",
              "25                           Destination Long                     Longitude of delivery location\n",
              "26                                   Rider Id             ID of the Rider who accepted the order\n",
              "27                Time from Pickup to Arrival  Time in seconds between 'Pickup' and 'Arrival ...\n",
              "28                                        NaN                                                NaN\n",
              "29                              Rider Metrics                                                NaN\n",
              "30                                   Rider Id  Unique number identifying the rider (same as i...\n",
              "31                               No_Of_Orders           Number of Orders the rider has delivered\n",
              "32                                        Age  Number of days since the rider delivered the f...\n",
              "33                             Average_Rating                        Average rating of the rider\n",
              "34                              No_of_Ratings   Number of ratings the rider has received. Rat..."
            ]
          },
          "metadata": {
            "tags": []
          },
          "execution_count": 3
        }
      ]
    },
    {
      "cell_type": "markdown",
      "metadata": {
        "id": "9NExLVdJOo-S",
        "colab_type": "text"
      },
      "source": [
        "**Sample Submission**"
      ]
    },
    {
      "cell_type": "code",
      "metadata": {
        "id": "4BTkDn1gOtzu",
        "colab_type": "code",
        "colab": {
          "base_uri": "https://localhost:8080/",
          "height": 80
        },
        "outputId": "8a1b5b0f-4803-4fd2-a788-a1da57851709"
      },
      "source": [
        "SampleSubmission.head(1)"
      ],
      "execution_count": 4,
      "outputs": [
        {
          "output_type": "execute_result",
          "data": {
            "text/html": [
              "<div>\n",
              "<style scoped>\n",
              "    .dataframe tbody tr th:only-of-type {\n",
              "        vertical-align: middle;\n",
              "    }\n",
              "\n",
              "    .dataframe tbody tr th {\n",
              "        vertical-align: top;\n",
              "    }\n",
              "\n",
              "    .dataframe thead th {\n",
              "        text-align: right;\n",
              "    }\n",
              "</style>\n",
              "<table border=\"1\" class=\"dataframe\">\n",
              "  <thead>\n",
              "    <tr style=\"text-align: right;\">\n",
              "      <th></th>\n",
              "      <th>Order_No</th>\n",
              "      <th>Time from Pickup to Arrival</th>\n",
              "    </tr>\n",
              "  </thead>\n",
              "  <tbody>\n",
              "    <tr>\n",
              "      <th>0</th>\n",
              "      <td>Order_No_19248</td>\n",
              "      <td>567.0</td>\n",
              "    </tr>\n",
              "  </tbody>\n",
              "</table>\n",
              "</div>"
            ],
            "text/plain": [
              "         Order_No  Time from Pickup to Arrival\n",
              "0  Order_No_19248                        567.0"
            ]
          },
          "metadata": {
            "tags": []
          },
          "execution_count": 4
        }
      ]
    },
    {
      "cell_type": "code",
      "metadata": {
        "id": "Hn6m4ALIO39o",
        "colab_type": "code",
        "colab": {
          "base_uri": "https://localhost:8080/",
          "height": 80
        },
        "outputId": "7cda0662-c281-4011-c5ef-b90b9bf47c35"
      },
      "source": [
        "riders.head(1)"
      ],
      "execution_count": 5,
      "outputs": [
        {
          "output_type": "execute_result",
          "data": {
            "text/html": [
              "<div>\n",
              "<style scoped>\n",
              "    .dataframe tbody tr th:only-of-type {\n",
              "        vertical-align: middle;\n",
              "    }\n",
              "\n",
              "    .dataframe tbody tr th {\n",
              "        vertical-align: top;\n",
              "    }\n",
              "\n",
              "    .dataframe thead th {\n",
              "        text-align: right;\n",
              "    }\n",
              "</style>\n",
              "<table border=\"1\" class=\"dataframe\">\n",
              "  <thead>\n",
              "    <tr style=\"text-align: right;\">\n",
              "      <th></th>\n",
              "      <th>Rider Id</th>\n",
              "      <th>No_Of_Orders</th>\n",
              "      <th>Age</th>\n",
              "      <th>Average_Rating</th>\n",
              "      <th>No_of_Ratings</th>\n",
              "    </tr>\n",
              "  </thead>\n",
              "  <tbody>\n",
              "    <tr>\n",
              "      <th>0</th>\n",
              "      <td>Rider_Id_396</td>\n",
              "      <td>2946</td>\n",
              "      <td>2298</td>\n",
              "      <td>14.0</td>\n",
              "      <td>1159</td>\n",
              "    </tr>\n",
              "  </tbody>\n",
              "</table>\n",
              "</div>"
            ],
            "text/plain": [
              "       Rider Id  No_Of_Orders   Age  Average_Rating  No_of_Ratings\n",
              "0  Rider_Id_396          2946  2298            14.0           1159"
            ]
          },
          "metadata": {
            "tags": []
          },
          "execution_count": 5
        }
      ]
    },
    {
      "cell_type": "code",
      "metadata": {
        "id": "nPjZ1ldxPAQI",
        "colab_type": "code",
        "colab": {
          "base_uri": "https://localhost:8080/",
          "height": 219
        },
        "outputId": "2623a111-4420-48f6-ba32-fbfd7ccabf7d"
      },
      "source": [
        "Train_df.head(1)"
      ],
      "execution_count": 6,
      "outputs": [
        {
          "output_type": "execute_result",
          "data": {
            "text/html": [
              "<div>\n",
              "<style scoped>\n",
              "    .dataframe tbody tr th:only-of-type {\n",
              "        vertical-align: middle;\n",
              "    }\n",
              "\n",
              "    .dataframe tbody tr th {\n",
              "        vertical-align: top;\n",
              "    }\n",
              "\n",
              "    .dataframe thead th {\n",
              "        text-align: right;\n",
              "    }\n",
              "</style>\n",
              "<table border=\"1\" class=\"dataframe\">\n",
              "  <thead>\n",
              "    <tr style=\"text-align: right;\">\n",
              "      <th></th>\n",
              "      <th>Order No</th>\n",
              "      <th>User Id</th>\n",
              "      <th>Vehicle Type</th>\n",
              "      <th>Platform Type</th>\n",
              "      <th>Personal or Business</th>\n",
              "      <th>Placement - Day of Month</th>\n",
              "      <th>Placement - Weekday (Mo = 1)</th>\n",
              "      <th>Placement - Time</th>\n",
              "      <th>Confirmation - Day of Month</th>\n",
              "      <th>Confirmation - Weekday (Mo = 1)</th>\n",
              "      <th>Confirmation - Time</th>\n",
              "      <th>Arrival at Pickup - Day of Month</th>\n",
              "      <th>Arrival at Pickup - Weekday (Mo = 1)</th>\n",
              "      <th>Arrival at Pickup - Time</th>\n",
              "      <th>Pickup - Day of Month</th>\n",
              "      <th>Pickup - Weekday (Mo = 1)</th>\n",
              "      <th>Pickup - Time</th>\n",
              "      <th>Arrival at Destination - Day of Month</th>\n",
              "      <th>Arrival at Destination - Weekday (Mo = 1)</th>\n",
              "      <th>Arrival at Destination - Time</th>\n",
              "      <th>Distance (KM)</th>\n",
              "      <th>Temperature</th>\n",
              "      <th>Precipitation in millimeters</th>\n",
              "      <th>Pickup Lat</th>\n",
              "      <th>Pickup Long</th>\n",
              "      <th>Destination Lat</th>\n",
              "      <th>Destination Long</th>\n",
              "      <th>Rider Id</th>\n",
              "      <th>Time from Pickup to Arrival</th>\n",
              "    </tr>\n",
              "  </thead>\n",
              "  <tbody>\n",
              "    <tr>\n",
              "      <th>0</th>\n",
              "      <td>Order_No_4211</td>\n",
              "      <td>User_Id_633</td>\n",
              "      <td>Bike</td>\n",
              "      <td>3</td>\n",
              "      <td>Business</td>\n",
              "      <td>9</td>\n",
              "      <td>5</td>\n",
              "      <td>9:35:46 AM</td>\n",
              "      <td>9</td>\n",
              "      <td>5</td>\n",
              "      <td>9:40:10 AM</td>\n",
              "      <td>9</td>\n",
              "      <td>5</td>\n",
              "      <td>10:04:47 AM</td>\n",
              "      <td>9</td>\n",
              "      <td>5</td>\n",
              "      <td>10:27:30 AM</td>\n",
              "      <td>9</td>\n",
              "      <td>5</td>\n",
              "      <td>10:39:55 AM</td>\n",
              "      <td>4</td>\n",
              "      <td>20.4</td>\n",
              "      <td>NaN</td>\n",
              "      <td>-1.317755</td>\n",
              "      <td>36.83037</td>\n",
              "      <td>-1.300406</td>\n",
              "      <td>36.829741</td>\n",
              "      <td>Rider_Id_432</td>\n",
              "      <td>745</td>\n",
              "    </tr>\n",
              "  </tbody>\n",
              "</table>\n",
              "</div>"
            ],
            "text/plain": [
              "        Order No      User Id  ...      Rider Id  Time from Pickup to Arrival\n",
              "0  Order_No_4211  User_Id_633  ...  Rider_Id_432                          745\n",
              "\n",
              "[1 rows x 29 columns]"
            ]
          },
          "metadata": {
            "tags": []
          },
          "execution_count": 6
        }
      ]
    },
    {
      "cell_type": "code",
      "metadata": {
        "id": "q-yMHulzPDqU",
        "colab_type": "code",
        "colab": {
          "base_uri": "https://localhost:8080/",
          "height": 629
        },
        "outputId": "356e4b65-baa9-460d-c307-b4abacddb816"
      },
      "source": [
        "Train_df.info()"
      ],
      "execution_count": 7,
      "outputs": [
        {
          "output_type": "stream",
          "text": [
            "<class 'pandas.core.frame.DataFrame'>\n",
            "RangeIndex: 21201 entries, 0 to 21200\n",
            "Data columns (total 29 columns):\n",
            " #   Column                                     Non-Null Count  Dtype  \n",
            "---  ------                                     --------------  -----  \n",
            " 0   Order No                                   21201 non-null  object \n",
            " 1   User Id                                    21201 non-null  object \n",
            " 2   Vehicle Type                               21201 non-null  object \n",
            " 3   Platform Type                              21201 non-null  int64  \n",
            " 4   Personal or Business                       21201 non-null  object \n",
            " 5   Placement - Day of Month                   21201 non-null  object \n",
            " 6   Placement - Weekday (Mo = 1)               21201 non-null  int64  \n",
            " 7   Placement - Time                           21201 non-null  object \n",
            " 8   Confirmation - Day of Month                21201 non-null  int64  \n",
            " 9   Confirmation - Weekday (Mo = 1)            21201 non-null  int64  \n",
            " 10  Confirmation - Time                        21201 non-null  object \n",
            " 11  Arrival at Pickup - Day of Month           21201 non-null  int64  \n",
            " 12  Arrival at Pickup - Weekday (Mo = 1)       21201 non-null  int64  \n",
            " 13  Arrival at Pickup - Time                   21201 non-null  object \n",
            " 14  Pickup - Day of Month                      21201 non-null  int64  \n",
            " 15  Pickup - Weekday (Mo = 1)                  21201 non-null  int64  \n",
            " 16  Pickup - Time                              21201 non-null  object \n",
            " 17  Arrival at Destination - Day of Month      21201 non-null  int64  \n",
            " 18  Arrival at Destination - Weekday (Mo = 1)  21201 non-null  int64  \n",
            " 19  Arrival at Destination - Time              21201 non-null  object \n",
            " 20  Distance (KM)                              21201 non-null  int64  \n",
            " 21  Temperature                                16835 non-null  float64\n",
            " 22  Precipitation in millimeters               552 non-null    float64\n",
            " 23  Pickup Lat                                 21201 non-null  float64\n",
            " 24  Pickup Long                                21201 non-null  float64\n",
            " 25  Destination Lat                            21201 non-null  float64\n",
            " 26  Destination Long                           21201 non-null  float64\n",
            " 27  Rider Id                                   21201 non-null  object \n",
            " 28  Time from Pickup to Arrival                21201 non-null  int64  \n",
            "dtypes: float64(6), int64(12), object(11)\n",
            "memory usage: 4.7+ MB\n"
          ],
          "name": "stdout"
        }
      ]
    },
    {
      "cell_type": "code",
      "metadata": {
        "id": "6tlvzt1WUQH_",
        "colab_type": "code",
        "colab": {}
      },
      "source": [
        "#Train_df = Train_df.drop(['Precipitation in millimeters'], axis= 1)\n",
        "#Test_df = Test_df.drop(['Precipitation in millimeters'], axis= 1)"
      ],
      "execution_count": 8,
      "outputs": []
    },
    {
      "cell_type": "markdown",
      "metadata": {
        "id": "DVVoB4jxu9Jr",
        "colab_type": "text"
      },
      "source": [
        "# Joining Tables"
      ]
    },
    {
      "cell_type": "code",
      "metadata": {
        "id": "wAs7_A3Mu8rO",
        "colab_type": "code",
        "colab": {}
      },
      "source": [
        "Train_df = Train_df.merge(riders, on='Rider Id', how='left')\n",
        "Test_df = Test_df.merge(riders, on='Rider Id', how='left')"
      ],
      "execution_count": 9,
      "outputs": []
    },
    {
      "cell_type": "markdown",
      "metadata": {
        "id": "6DcSOMpUBti6",
        "colab_type": "text"
      },
      "source": [
        "# **Data Cleaning**"
      ]
    },
    {
      "cell_type": "markdown",
      "metadata": {
        "id": "0DCfRWeBB6bd",
        "colab_type": "text"
      },
      "source": [
        "**Checking for Duplicates**"
      ]
    },
    {
      "cell_type": "code",
      "metadata": {
        "id": "FucaTnJfBx0T",
        "colab_type": "code",
        "colab": {}
      },
      "source": [
        "#No duplicate Data On Test Data\n",
        "def Check_duplicates(df):\n",
        "  duplicates = df.duplicated(subset = ['Order No'], keep = False)\n",
        "  return df[duplicates]"
      ],
      "execution_count": 10,
      "outputs": []
    },
    {
      "cell_type": "code",
      "metadata": {
        "id": "c7rkK8NPCIan",
        "colab_type": "code",
        "colab": {}
      },
      "source": [
        "#No duplicates \n",
        "Train_duplicates = Check_duplicates(Train_df)\n",
        "Test_duplucates = Check_duplicates(Test_df)"
      ],
      "execution_count": 11,
      "outputs": []
    },
    {
      "cell_type": "markdown",
      "metadata": {
        "id": "RQRlOsxrbDCI",
        "colab_type": "text"
      },
      "source": [
        "**Changing into int data types"
      ]
    },
    {
      "cell_type": "code",
      "metadata": {
        "id": "kkDzPnkXbBNP",
        "colab_type": "code",
        "colab": {}
      },
      "source": [
        "Train_df['Platform Type'] = Train_df['Platform Type'].astype('object')\n",
        "Test_df['Platform Type'] = Test_df['Platform Type'].astype('object')       \n",
        "Train_df['Placement - Day of Month'] = Train_df['Placement - Day of Month'].astype('int')\n",
        "Test_df['Placement - Day of Month'] = Test_df['Placement - Day of Month'].astype('int')"
      ],
      "execution_count": 12,
      "outputs": []
    },
    {
      "cell_type": "markdown",
      "metadata": {
        "id": "M_1dHt-PEgyJ",
        "colab_type": "text"
      },
      "source": [
        "**Dropping columns not in test Data**"
      ]
    },
    {
      "cell_type": "code",
      "metadata": {
        "id": "i0wuZom7Ef1D",
        "colab_type": "code",
        "colab": {}
      },
      "source": [
        "def columnDrop(df,columns):\n",
        "  df.drop(columns, axis=1,inplace=True)\n",
        "  #df.set_index(['Order No'], inplace= True)\n",
        "  return df"
      ],
      "execution_count": 13,
      "outputs": []
    },
    {
      "cell_type": "code",
      "metadata": {
        "id": "Osco0GahE0Ff",
        "colab_type": "code",
        "colab": {}
      },
      "source": [
        "Drop_Train_Cols = ['Precipitation in millimeters', 'Arrival at Destination - Day of Month', \n",
        "                   'Arrival at Destination - Weekday (Mo = 1)', 'Arrival at Destination - Time']\n",
        "Drop_Test_Cols =  ['Precipitation in millimeters']    \n",
        "Test_df = columnDrop(Test_df,Drop_Test_Cols)\n",
        "Train_df = columnDrop(Train_df,Drop_Train_Cols)"
      ],
      "execution_count": 14,
      "outputs": []
    },
    {
      "cell_type": "markdown",
      "metadata": {
        "id": "6sLGxyT4DeO1",
        "colab_type": "text"
      },
      "source": [
        "**Seperating Time**"
      ]
    },
    {
      "cell_type": "code",
      "metadata": {
        "id": "f6gJxULCDc13",
        "colab_type": "code",
        "colab": {}
      },
      "source": [
        "def timeconvert(df,Time):\n",
        "    df[Time] = df[Time].astype('datetime64')\n",
        "    return df"
      ],
      "execution_count": 15,
      "outputs": []
    },
    {
      "cell_type": "code",
      "metadata": {
        "id": "BDFA1MJFDnYx",
        "colab_type": "code",
        "colab": {}
      },
      "source": [
        "Time_columns = ['Placement - Time', 'Confirmation - Time',\n",
        "                'Arrival at Pickup - Time','Pickup - Time']\n",
        "Train_df = timeconvert(Train_df,Time_columns)\n",
        "Test_df = timeconvert(Test_df,Time_columns)"
      ],
      "execution_count": 16,
      "outputs": []
    },
    {
      "cell_type": "code",
      "metadata": {
        "id": "E2ZxBu-gEVds",
        "colab_type": "code",
        "colab": {}
      },
      "source": [
        "def SplitDatetime(df,columns):\n",
        "  for item in columns:\n",
        "    #df[item+'_day'] = pd.to_datetime(df[item]).dt.day\n",
        "    df[item+'_hour'] = pd.to_datetime(df[item]).dt.hour\n",
        "    df[item+'_minutes'] = pd.to_datetime(df[item]).dt.minute\n",
        "    df[item+'_seconds'] = pd.to_datetime(df[item]).dt.second\n",
        "  df.drop(columns,axis=1, inplace = True)\n",
        "  return df"
      ],
      "execution_count": 17,
      "outputs": []
    },
    {
      "cell_type": "code",
      "metadata": {
        "id": "4kgm_TKoGl71",
        "colab_type": "code",
        "colab": {}
      },
      "source": [
        "Time_columns = ['Placement - Time', 'Confirmation - Time',\n",
        "                'Arrival at Pickup - Time','Pickup - Time']\n",
        "Train_df = SplitDatetime(Train_df,Time_columns)\n",
        "Test_df = SplitDatetime(Test_df,Time_columns)"
      ],
      "execution_count": 18,
      "outputs": []
    },
    {
      "cell_type": "code",
      "metadata": {
        "id": "vfdgQ333Gwx7",
        "colab_type": "code",
        "colab": {
          "base_uri": "https://localhost:8080/",
          "height": 202
        },
        "outputId": "06233c02-439e-4ff3-f678-112fe082fd49"
      },
      "source": [
        "Train_df.head(1)"
      ],
      "execution_count": 19,
      "outputs": [
        {
          "output_type": "execute_result",
          "data": {
            "text/html": [
              "<div>\n",
              "<style scoped>\n",
              "    .dataframe tbody tr th:only-of-type {\n",
              "        vertical-align: middle;\n",
              "    }\n",
              "\n",
              "    .dataframe tbody tr th {\n",
              "        vertical-align: top;\n",
              "    }\n",
              "\n",
              "    .dataframe thead th {\n",
              "        text-align: right;\n",
              "    }\n",
              "</style>\n",
              "<table border=\"1\" class=\"dataframe\">\n",
              "  <thead>\n",
              "    <tr style=\"text-align: right;\">\n",
              "      <th></th>\n",
              "      <th>Order No</th>\n",
              "      <th>User Id</th>\n",
              "      <th>Vehicle Type</th>\n",
              "      <th>Platform Type</th>\n",
              "      <th>Personal or Business</th>\n",
              "      <th>Placement - Day of Month</th>\n",
              "      <th>Placement - Weekday (Mo = 1)</th>\n",
              "      <th>Confirmation - Day of Month</th>\n",
              "      <th>Confirmation - Weekday (Mo = 1)</th>\n",
              "      <th>Arrival at Pickup - Day of Month</th>\n",
              "      <th>Arrival at Pickup - Weekday (Mo = 1)</th>\n",
              "      <th>Pickup - Day of Month</th>\n",
              "      <th>Pickup - Weekday (Mo = 1)</th>\n",
              "      <th>Distance (KM)</th>\n",
              "      <th>Temperature</th>\n",
              "      <th>Pickup Lat</th>\n",
              "      <th>Pickup Long</th>\n",
              "      <th>Destination Lat</th>\n",
              "      <th>Destination Long</th>\n",
              "      <th>Rider Id</th>\n",
              "      <th>Time from Pickup to Arrival</th>\n",
              "      <th>No_Of_Orders</th>\n",
              "      <th>Age</th>\n",
              "      <th>Average_Rating</th>\n",
              "      <th>No_of_Ratings</th>\n",
              "      <th>Placement - Time_hour</th>\n",
              "      <th>Placement - Time_minutes</th>\n",
              "      <th>Placement - Time_seconds</th>\n",
              "      <th>Confirmation - Time_hour</th>\n",
              "      <th>Confirmation - Time_minutes</th>\n",
              "      <th>Confirmation - Time_seconds</th>\n",
              "      <th>Arrival at Pickup - Time_hour</th>\n",
              "      <th>Arrival at Pickup - Time_minutes</th>\n",
              "      <th>Arrival at Pickup - Time_seconds</th>\n",
              "      <th>Pickup - Time_hour</th>\n",
              "      <th>Pickup - Time_minutes</th>\n",
              "      <th>Pickup - Time_seconds</th>\n",
              "    </tr>\n",
              "  </thead>\n",
              "  <tbody>\n",
              "    <tr>\n",
              "      <th>0</th>\n",
              "      <td>Order_No_4211</td>\n",
              "      <td>User_Id_633</td>\n",
              "      <td>Bike</td>\n",
              "      <td>3</td>\n",
              "      <td>Business</td>\n",
              "      <td>9</td>\n",
              "      <td>5</td>\n",
              "      <td>9</td>\n",
              "      <td>5</td>\n",
              "      <td>9</td>\n",
              "      <td>5</td>\n",
              "      <td>9</td>\n",
              "      <td>5</td>\n",
              "      <td>4</td>\n",
              "      <td>20.4</td>\n",
              "      <td>-1.317755</td>\n",
              "      <td>36.83037</td>\n",
              "      <td>-1.300406</td>\n",
              "      <td>36.829741</td>\n",
              "      <td>Rider_Id_432</td>\n",
              "      <td>745</td>\n",
              "      <td>1637</td>\n",
              "      <td>1309</td>\n",
              "      <td>13.8</td>\n",
              "      <td>549</td>\n",
              "      <td>9</td>\n",
              "      <td>35</td>\n",
              "      <td>46</td>\n",
              "      <td>9</td>\n",
              "      <td>40</td>\n",
              "      <td>10</td>\n",
              "      <td>10</td>\n",
              "      <td>4</td>\n",
              "      <td>47</td>\n",
              "      <td>10</td>\n",
              "      <td>27</td>\n",
              "      <td>30</td>\n",
              "    </tr>\n",
              "  </tbody>\n",
              "</table>\n",
              "</div>"
            ],
            "text/plain": [
              "        Order No      User Id  ... Pickup - Time_minutes Pickup - Time_seconds\n",
              "0  Order_No_4211  User_Id_633  ...                    27                    30\n",
              "\n",
              "[1 rows x 37 columns]"
            ]
          },
          "metadata": {
            "tags": []
          },
          "execution_count": 19
        }
      ]
    },
    {
      "cell_type": "markdown",
      "metadata": {
        "id": "ENm55a0CQjR2",
        "colab_type": "text"
      },
      "source": [
        "**Taking Care of missing Data"
      ]
    },
    {
      "cell_type": "code",
      "metadata": {
        "id": "QMIpcoCmQimp",
        "colab_type": "code",
        "colab": {}
      },
      "source": [
        "from sklearn.impute import SimpleImputer\n",
        "\n",
        "def missingData(df,columns):\n",
        "  imputer = SimpleImputer(missing_values=np.nan, strategy='mean')\n",
        "  imputer.fit(df[columns])\n",
        "  df[columns] = imputer.transform(df[columns])\n",
        "  return df"
      ],
      "execution_count": 20,
      "outputs": []
    },
    {
      "cell_type": "code",
      "metadata": {
        "id": "zUPuF7cVQtSp",
        "colab_type": "code",
        "colab": {}
      },
      "source": [
        "columns = ['Temperature']\n",
        "Test_df = missingData(Test_df,columns)\n",
        "Train_df = missingData(Train_df,columns)"
      ],
      "execution_count": 21,
      "outputs": []
    },
    {
      "cell_type": "code",
      "metadata": {
        "id": "AX1h72V1fgzz",
        "colab_type": "code",
        "colab": {
          "base_uri": "https://localhost:8080/",
          "height": 765
        },
        "outputId": "9179a83a-89fc-4037-b1c2-7981617f7d33"
      },
      "source": [
        "Train_df.info()"
      ],
      "execution_count": 22,
      "outputs": [
        {
          "output_type": "stream",
          "text": [
            "<class 'pandas.core.frame.DataFrame'>\n",
            "Int64Index: 21201 entries, 0 to 21200\n",
            "Data columns (total 37 columns):\n",
            " #   Column                                Non-Null Count  Dtype  \n",
            "---  ------                                --------------  -----  \n",
            " 0   Order No                              21201 non-null  object \n",
            " 1   User Id                               21201 non-null  object \n",
            " 2   Vehicle Type                          21201 non-null  object \n",
            " 3   Platform Type                         21201 non-null  object \n",
            " 4   Personal or Business                  21201 non-null  object \n",
            " 5   Placement - Day of Month              21201 non-null  int64  \n",
            " 6   Placement - Weekday (Mo = 1)          21201 non-null  int64  \n",
            " 7   Confirmation - Day of Month           21201 non-null  int64  \n",
            " 8   Confirmation - Weekday (Mo = 1)       21201 non-null  int64  \n",
            " 9   Arrival at Pickup - Day of Month      21201 non-null  int64  \n",
            " 10  Arrival at Pickup - Weekday (Mo = 1)  21201 non-null  int64  \n",
            " 11  Pickup - Day of Month                 21201 non-null  int64  \n",
            " 12  Pickup - Weekday (Mo = 1)             21201 non-null  int64  \n",
            " 13  Distance (KM)                         21201 non-null  int64  \n",
            " 14  Temperature                           21201 non-null  float64\n",
            " 15  Pickup Lat                            21201 non-null  float64\n",
            " 16  Pickup Long                           21201 non-null  float64\n",
            " 17  Destination Lat                       21201 non-null  float64\n",
            " 18  Destination Long                      21201 non-null  float64\n",
            " 19  Rider Id                              21201 non-null  object \n",
            " 20  Time from Pickup to Arrival           21201 non-null  int64  \n",
            " 21  No_Of_Orders                          21201 non-null  int64  \n",
            " 22  Age                                   21201 non-null  int64  \n",
            " 23  Average_Rating                        21201 non-null  float64\n",
            " 24  No_of_Ratings                         21201 non-null  int64  \n",
            " 25  Placement - Time_hour                 21201 non-null  int64  \n",
            " 26  Placement - Time_minutes              21201 non-null  int64  \n",
            " 27  Placement - Time_seconds              21201 non-null  int64  \n",
            " 28  Confirmation - Time_hour              21201 non-null  int64  \n",
            " 29  Confirmation - Time_minutes           21201 non-null  int64  \n",
            " 30  Confirmation - Time_seconds           21201 non-null  int64  \n",
            " 31  Arrival at Pickup - Time_hour         21201 non-null  int64  \n",
            " 32  Arrival at Pickup - Time_minutes      21201 non-null  int64  \n",
            " 33  Arrival at Pickup - Time_seconds      21201 non-null  int64  \n",
            " 34  Pickup - Time_hour                    21201 non-null  int64  \n",
            " 35  Pickup - Time_minutes                 21201 non-null  int64  \n",
            " 36  Pickup - Time_seconds                 21201 non-null  int64  \n",
            "dtypes: float64(6), int64(25), object(6)\n",
            "memory usage: 6.1+ MB\n"
          ],
          "name": "stdout"
        }
      ]
    },
    {
      "cell_type": "markdown",
      "metadata": {
        "id": "TmU7hmcMlhPt",
        "colab_type": "text"
      },
      "source": [
        "# **Feature Engineering**"
      ]
    },
    {
      "cell_type": "markdown",
      "metadata": {
        "id": "DDbCKQCXRsJ-",
        "colab_type": "text"
      },
      "source": [
        "**Get Dummy Variables**"
      ]
    },
    {
      "cell_type": "code",
      "metadata": {
        "id": "Uj5RedYNRql4",
        "colab_type": "code",
        "colab": {}
      },
      "source": [
        "def dummy_encoder(df, cols):\n",
        "  dummies = pd.get_dummies(df,columns= cols,drop_first = True)\n",
        "  merged = pd.concat([df,dummies],axis='columns')\n",
        "  final = merged.drop(cols, axis = 1)\n",
        "  return dummies"
      ],
      "execution_count": 23,
      "outputs": []
    },
    {
      "cell_type": "code",
      "metadata": {
        "id": "eLFIUETGSTRR",
        "colab_type": "code",
        "colab": {
          "base_uri": "https://localhost:8080/",
          "height": 231
        },
        "outputId": "91c6f6b6-e9a4-4cb4-dd0d-535dd649ba2c"
      },
      "source": [
        "cols = ['Platform Type','Personal or Business', 'Placement - Weekday (Mo = 1)',\n",
        "        'Confirmation - Weekday (Mo = 1)','Pickup - Weekday (Mo = 1)','Rider Id','Vehicle Type','User Id']\n",
        "Train_df = dummy_encoder(Train_df, cols)\n",
        "Test_df = dummy_encoder(Test_df, cols)\n",
        "Test_df.head(1)"
      ],
      "execution_count": 24,
      "outputs": [
        {
          "output_type": "execute_result",
          "data": {
            "text/html": [
              "<div>\n",
              "<style scoped>\n",
              "    .dataframe tbody tr th:only-of-type {\n",
              "        vertical-align: middle;\n",
              "    }\n",
              "\n",
              "    .dataframe tbody tr th {\n",
              "        vertical-align: top;\n",
              "    }\n",
              "\n",
              "    .dataframe thead th {\n",
              "        text-align: right;\n",
              "    }\n",
              "</style>\n",
              "<table border=\"1\" class=\"dataframe\">\n",
              "  <thead>\n",
              "    <tr style=\"text-align: right;\">\n",
              "      <th></th>\n",
              "      <th>Order No</th>\n",
              "      <th>Placement - Day of Month</th>\n",
              "      <th>Confirmation - Day of Month</th>\n",
              "      <th>Arrival at Pickup - Day of Month</th>\n",
              "      <th>Arrival at Pickup - Weekday (Mo = 1)</th>\n",
              "      <th>Pickup - Day of Month</th>\n",
              "      <th>Distance (KM)</th>\n",
              "      <th>Temperature</th>\n",
              "      <th>Pickup Lat</th>\n",
              "      <th>Pickup Long</th>\n",
              "      <th>Destination Lat</th>\n",
              "      <th>Destination Long</th>\n",
              "      <th>No_Of_Orders</th>\n",
              "      <th>Age</th>\n",
              "      <th>Average_Rating</th>\n",
              "      <th>No_of_Ratings</th>\n",
              "      <th>Placement - Time_hour</th>\n",
              "      <th>Placement - Time_minutes</th>\n",
              "      <th>Placement - Time_seconds</th>\n",
              "      <th>Confirmation - Time_hour</th>\n",
              "      <th>Confirmation - Time_minutes</th>\n",
              "      <th>Confirmation - Time_seconds</th>\n",
              "      <th>Arrival at Pickup - Time_hour</th>\n",
              "      <th>Arrival at Pickup - Time_minutes</th>\n",
              "      <th>Arrival at Pickup - Time_seconds</th>\n",
              "      <th>Pickup - Time_hour</th>\n",
              "      <th>Pickup - Time_minutes</th>\n",
              "      <th>Pickup - Time_seconds</th>\n",
              "      <th>Platform Type_2</th>\n",
              "      <th>Platform Type_3</th>\n",
              "      <th>Platform Type_4</th>\n",
              "      <th>Personal or Business_Personal</th>\n",
              "      <th>Placement - Weekday (Mo = 1)_2</th>\n",
              "      <th>Placement - Weekday (Mo = 1)_3</th>\n",
              "      <th>Placement - Weekday (Mo = 1)_4</th>\n",
              "      <th>Placement - Weekday (Mo = 1)_5</th>\n",
              "      <th>Placement - Weekday (Mo = 1)_6</th>\n",
              "      <th>Placement - Weekday (Mo = 1)_7</th>\n",
              "      <th>Confirmation - Weekday (Mo = 1)_2</th>\n",
              "      <th>Confirmation - Weekday (Mo = 1)_3</th>\n",
              "      <th>...</th>\n",
              "      <th>User Id_User_Id_909</th>\n",
              "      <th>User Id_User_Id_910</th>\n",
              "      <th>User Id_User_Id_912</th>\n",
              "      <th>User Id_User_Id_913</th>\n",
              "      <th>User Id_User_Id_914</th>\n",
              "      <th>User Id_User_Id_915</th>\n",
              "      <th>User Id_User_Id_917</th>\n",
              "      <th>User Id_User_Id_918</th>\n",
              "      <th>User Id_User_Id_919</th>\n",
              "      <th>User Id_User_Id_920</th>\n",
              "      <th>User Id_User_Id_922</th>\n",
              "      <th>User Id_User_Id_924</th>\n",
              "      <th>User Id_User_Id_925</th>\n",
              "      <th>User Id_User_Id_928</th>\n",
              "      <th>User Id_User_Id_93</th>\n",
              "      <th>User Id_User_Id_930</th>\n",
              "      <th>User Id_User_Id_935</th>\n",
              "      <th>User Id_User_Id_937</th>\n",
              "      <th>User Id_User_Id_938</th>\n",
              "      <th>User Id_User_Id_94</th>\n",
              "      <th>User Id_User_Id_941</th>\n",
              "      <th>User Id_User_Id_944</th>\n",
              "      <th>User Id_User_Id_948</th>\n",
              "      <th>User Id_User_Id_95</th>\n",
              "      <th>User Id_User_Id_953</th>\n",
              "      <th>User Id_User_Id_954</th>\n",
              "      <th>User Id_User_Id_955</th>\n",
              "      <th>User Id_User_Id_957</th>\n",
              "      <th>User Id_User_Id_969</th>\n",
              "      <th>User Id_User_Id_97</th>\n",
              "      <th>User Id_User_Id_970</th>\n",
              "      <th>User Id_User_Id_972</th>\n",
              "      <th>User Id_User_Id_973</th>\n",
              "      <th>User Id_User_Id_978</th>\n",
              "      <th>User Id_User_Id_980</th>\n",
              "      <th>User Id_User_Id_981</th>\n",
              "      <th>User Id_User_Id_991</th>\n",
              "      <th>User Id_User_Id_992</th>\n",
              "      <th>User Id_User_Id_995</th>\n",
              "      <th>User Id_User_Id_996</th>\n",
              "    </tr>\n",
              "  </thead>\n",
              "  <tbody>\n",
              "    <tr>\n",
              "      <th>0</th>\n",
              "      <td>Order_No_19248</td>\n",
              "      <td>27</td>\n",
              "      <td>27</td>\n",
              "      <td>27</td>\n",
              "      <td>3</td>\n",
              "      <td>27</td>\n",
              "      <td>8</td>\n",
              "      <td>23.24612</td>\n",
              "      <td>-1.333275</td>\n",
              "      <td>36.870815</td>\n",
              "      <td>-1.305249</td>\n",
              "      <td>36.82239</td>\n",
              "      <td>439</td>\n",
              "      <td>1511</td>\n",
              "      <td>13.3</td>\n",
              "      <td>171</td>\n",
              "      <td>16</td>\n",
              "      <td>44</td>\n",
              "      <td>10</td>\n",
              "      <td>16</td>\n",
              "      <td>44</td>\n",
              "      <td>29</td>\n",
              "      <td>16</td>\n",
              "      <td>53</td>\n",
              "      <td>4</td>\n",
              "      <td>17</td>\n",
              "      <td>6</td>\n",
              "      <td>47</td>\n",
              "      <td>0</td>\n",
              "      <td>1</td>\n",
              "      <td>0</td>\n",
              "      <td>0</td>\n",
              "      <td>0</td>\n",
              "      <td>1</td>\n",
              "      <td>0</td>\n",
              "      <td>0</td>\n",
              "      <td>0</td>\n",
              "      <td>0</td>\n",
              "      <td>0</td>\n",
              "      <td>1</td>\n",
              "      <td>...</td>\n",
              "      <td>0</td>\n",
              "      <td>0</td>\n",
              "      <td>0</td>\n",
              "      <td>0</td>\n",
              "      <td>0</td>\n",
              "      <td>0</td>\n",
              "      <td>0</td>\n",
              "      <td>0</td>\n",
              "      <td>0</td>\n",
              "      <td>0</td>\n",
              "      <td>0</td>\n",
              "      <td>0</td>\n",
              "      <td>0</td>\n",
              "      <td>0</td>\n",
              "      <td>0</td>\n",
              "      <td>0</td>\n",
              "      <td>0</td>\n",
              "      <td>0</td>\n",
              "      <td>0</td>\n",
              "      <td>0</td>\n",
              "      <td>0</td>\n",
              "      <td>0</td>\n",
              "      <td>0</td>\n",
              "      <td>0</td>\n",
              "      <td>0</td>\n",
              "      <td>0</td>\n",
              "      <td>0</td>\n",
              "      <td>0</td>\n",
              "      <td>0</td>\n",
              "      <td>0</td>\n",
              "      <td>0</td>\n",
              "      <td>0</td>\n",
              "      <td>0</td>\n",
              "      <td>0</td>\n",
              "      <td>0</td>\n",
              "      <td>0</td>\n",
              "      <td>0</td>\n",
              "      <td>0</td>\n",
              "      <td>0</td>\n",
              "      <td>0</td>\n",
              "    </tr>\n",
              "  </tbody>\n",
              "</table>\n",
              "<p>1 rows × 2487 columns</p>\n",
              "</div>"
            ],
            "text/plain": [
              "         Order No  ...  User Id_User_Id_996\n",
              "0  Order_No_19248  ...                    0\n",
              "\n",
              "[1 rows x 2487 columns]"
            ]
          },
          "metadata": {
            "tags": []
          },
          "execution_count": 24
        }
      ]
    },
    {
      "cell_type": "code",
      "metadata": {
        "id": "Px3Adzg5Zkp-",
        "colab_type": "code",
        "colab": {
          "base_uri": "https://localhost:8080/",
          "height": 231
        },
        "outputId": "7a891eec-f030-4a7c-eb17-c5463eb666b1"
      },
      "source": [
        "Train_df.head(1)"
      ],
      "execution_count": 25,
      "outputs": [
        {
          "output_type": "execute_result",
          "data": {
            "text/html": [
              "<div>\n",
              "<style scoped>\n",
              "    .dataframe tbody tr th:only-of-type {\n",
              "        vertical-align: middle;\n",
              "    }\n",
              "\n",
              "    .dataframe tbody tr th {\n",
              "        vertical-align: top;\n",
              "    }\n",
              "\n",
              "    .dataframe thead th {\n",
              "        text-align: right;\n",
              "    }\n",
              "</style>\n",
              "<table border=\"1\" class=\"dataframe\">\n",
              "  <thead>\n",
              "    <tr style=\"text-align: right;\">\n",
              "      <th></th>\n",
              "      <th>Order No</th>\n",
              "      <th>Placement - Day of Month</th>\n",
              "      <th>Confirmation - Day of Month</th>\n",
              "      <th>Arrival at Pickup - Day of Month</th>\n",
              "      <th>Arrival at Pickup - Weekday (Mo = 1)</th>\n",
              "      <th>Pickup - Day of Month</th>\n",
              "      <th>Distance (KM)</th>\n",
              "      <th>Temperature</th>\n",
              "      <th>Pickup Lat</th>\n",
              "      <th>Pickup Long</th>\n",
              "      <th>Destination Lat</th>\n",
              "      <th>Destination Long</th>\n",
              "      <th>Time from Pickup to Arrival</th>\n",
              "      <th>No_Of_Orders</th>\n",
              "      <th>Age</th>\n",
              "      <th>Average_Rating</th>\n",
              "      <th>No_of_Ratings</th>\n",
              "      <th>Placement - Time_hour</th>\n",
              "      <th>Placement - Time_minutes</th>\n",
              "      <th>Placement - Time_seconds</th>\n",
              "      <th>Confirmation - Time_hour</th>\n",
              "      <th>Confirmation - Time_minutes</th>\n",
              "      <th>Confirmation - Time_seconds</th>\n",
              "      <th>Arrival at Pickup - Time_hour</th>\n",
              "      <th>Arrival at Pickup - Time_minutes</th>\n",
              "      <th>Arrival at Pickup - Time_seconds</th>\n",
              "      <th>Pickup - Time_hour</th>\n",
              "      <th>Pickup - Time_minutes</th>\n",
              "      <th>Pickup - Time_seconds</th>\n",
              "      <th>Platform Type_2</th>\n",
              "      <th>Platform Type_3</th>\n",
              "      <th>Platform Type_4</th>\n",
              "      <th>Personal or Business_Personal</th>\n",
              "      <th>Placement - Weekday (Mo = 1)_2</th>\n",
              "      <th>Placement - Weekday (Mo = 1)_3</th>\n",
              "      <th>Placement - Weekday (Mo = 1)_4</th>\n",
              "      <th>Placement - Weekday (Mo = 1)_5</th>\n",
              "      <th>Placement - Weekday (Mo = 1)_6</th>\n",
              "      <th>Placement - Weekday (Mo = 1)_7</th>\n",
              "      <th>Confirmation - Weekday (Mo = 1)_2</th>\n",
              "      <th>...</th>\n",
              "      <th>User Id_User_Id_96</th>\n",
              "      <th>User Id_User_Id_960</th>\n",
              "      <th>User Id_User_Id_961</th>\n",
              "      <th>User Id_User_Id_962</th>\n",
              "      <th>User Id_User_Id_963</th>\n",
              "      <th>User Id_User_Id_964</th>\n",
              "      <th>User Id_User_Id_965</th>\n",
              "      <th>User Id_User_Id_966</th>\n",
              "      <th>User Id_User_Id_967</th>\n",
              "      <th>User Id_User_Id_968</th>\n",
              "      <th>User Id_User_Id_969</th>\n",
              "      <th>User Id_User_Id_97</th>\n",
              "      <th>User Id_User_Id_970</th>\n",
              "      <th>User Id_User_Id_971</th>\n",
              "      <th>User Id_User_Id_972</th>\n",
              "      <th>User Id_User_Id_974</th>\n",
              "      <th>User Id_User_Id_975</th>\n",
              "      <th>User Id_User_Id_976</th>\n",
              "      <th>User Id_User_Id_977</th>\n",
              "      <th>User Id_User_Id_978</th>\n",
              "      <th>User Id_User_Id_979</th>\n",
              "      <th>User Id_User_Id_98</th>\n",
              "      <th>User Id_User_Id_981</th>\n",
              "      <th>User Id_User_Id_982</th>\n",
              "      <th>User Id_User_Id_983</th>\n",
              "      <th>User Id_User_Id_984</th>\n",
              "      <th>User Id_User_Id_985</th>\n",
              "      <th>User Id_User_Id_986</th>\n",
              "      <th>User Id_User_Id_987</th>\n",
              "      <th>User Id_User_Id_988</th>\n",
              "      <th>User Id_User_Id_989</th>\n",
              "      <th>User Id_User_Id_99</th>\n",
              "      <th>User Id_User_Id_990</th>\n",
              "      <th>User Id_User_Id_991</th>\n",
              "      <th>User Id_User_Id_993</th>\n",
              "      <th>User Id_User_Id_994</th>\n",
              "      <th>User Id_User_Id_995</th>\n",
              "      <th>User Id_User_Id_997</th>\n",
              "      <th>User Id_User_Id_998</th>\n",
              "      <th>User Id_User_Id_999</th>\n",
              "    </tr>\n",
              "  </thead>\n",
              "  <tbody>\n",
              "    <tr>\n",
              "      <th>0</th>\n",
              "      <td>Order_No_4211</td>\n",
              "      <td>9</td>\n",
              "      <td>9</td>\n",
              "      <td>9</td>\n",
              "      <td>5</td>\n",
              "      <td>9</td>\n",
              "      <td>4</td>\n",
              "      <td>20.4</td>\n",
              "      <td>-1.317755</td>\n",
              "      <td>36.83037</td>\n",
              "      <td>-1.300406</td>\n",
              "      <td>36.829741</td>\n",
              "      <td>745</td>\n",
              "      <td>1637</td>\n",
              "      <td>1309</td>\n",
              "      <td>13.8</td>\n",
              "      <td>549</td>\n",
              "      <td>9</td>\n",
              "      <td>35</td>\n",
              "      <td>46</td>\n",
              "      <td>9</td>\n",
              "      <td>40</td>\n",
              "      <td>10</td>\n",
              "      <td>10</td>\n",
              "      <td>4</td>\n",
              "      <td>47</td>\n",
              "      <td>10</td>\n",
              "      <td>27</td>\n",
              "      <td>30</td>\n",
              "      <td>0</td>\n",
              "      <td>1</td>\n",
              "      <td>0</td>\n",
              "      <td>0</td>\n",
              "      <td>0</td>\n",
              "      <td>0</td>\n",
              "      <td>0</td>\n",
              "      <td>1</td>\n",
              "      <td>0</td>\n",
              "      <td>0</td>\n",
              "      <td>0</td>\n",
              "      <td>...</td>\n",
              "      <td>0</td>\n",
              "      <td>0</td>\n",
              "      <td>0</td>\n",
              "      <td>0</td>\n",
              "      <td>0</td>\n",
              "      <td>0</td>\n",
              "      <td>0</td>\n",
              "      <td>0</td>\n",
              "      <td>0</td>\n",
              "      <td>0</td>\n",
              "      <td>0</td>\n",
              "      <td>0</td>\n",
              "      <td>0</td>\n",
              "      <td>0</td>\n",
              "      <td>0</td>\n",
              "      <td>0</td>\n",
              "      <td>0</td>\n",
              "      <td>0</td>\n",
              "      <td>0</td>\n",
              "      <td>0</td>\n",
              "      <td>0</td>\n",
              "      <td>0</td>\n",
              "      <td>0</td>\n",
              "      <td>0</td>\n",
              "      <td>0</td>\n",
              "      <td>0</td>\n",
              "      <td>0</td>\n",
              "      <td>0</td>\n",
              "      <td>0</td>\n",
              "      <td>0</td>\n",
              "      <td>0</td>\n",
              "      <td>0</td>\n",
              "      <td>0</td>\n",
              "      <td>0</td>\n",
              "      <td>0</td>\n",
              "      <td>0</td>\n",
              "      <td>0</td>\n",
              "      <td>0</td>\n",
              "      <td>0</td>\n",
              "      <td>0</td>\n",
              "    </tr>\n",
              "  </tbody>\n",
              "</table>\n",
              "<p>1 rows × 4159 columns</p>\n",
              "</div>"
            ],
            "text/plain": [
              "        Order No  ...  User Id_User_Id_999\n",
              "0  Order_No_4211  ...                    0\n",
              "\n",
              "[1 rows x 4159 columns]"
            ]
          },
          "metadata": {
            "tags": []
          },
          "execution_count": 25
        }
      ]
    },
    {
      "cell_type": "markdown",
      "metadata": {
        "id": "S32BNU_Pp7r7",
        "colab_type": "text"
      },
      "source": [
        "**Variable Selection by Correlation and Significance**"
      ]
    },
    {
      "cell_type": "code",
      "metadata": {
        "id": "R8QbENreti2H",
        "colab_type": "code",
        "colab": {}
      },
      "source": [
        "Train = Train_df.drop(['Order No'],axis=1)"
      ],
      "execution_count": 26,
      "outputs": []
    },
    {
      "cell_type": "code",
      "metadata": {
        "id": "pDc5mpp9qEIh",
        "colab_type": "code",
        "colab": {}
      },
      "source": [
        "# Calculate correlations between predictor variables and the response variable\n",
        "corrs = Train.corr()['Time from Pickup to Arrival'].sort_values(ascending=False)"
      ],
      "execution_count": null,
      "outputs": []
    },
    {
      "cell_type": "code",
      "metadata": {
        "id": "41e5cPtHqhT4",
        "colab_type": "code",
        "colab": {}
      },
      "source": [
        "from scipy.stats import pearsonr\n",
        "\n",
        "# Build a dictionary of correlation coefficients and p-values\n",
        "dict_cp = {}\n",
        "\n",
        "column_titles = [col for col in corrs.index if col!= 'Time from Pickup to Arrival']\n",
        "for col in column_titles:\n",
        "    p_val = round(pearsonr(Train[col], Train['Time from Pickup to Arrival'])[1],6)\n",
        "    dict_cp[col] = {'Correlation_Coefficient':corrs[col],\n",
        "                    'P_Value':p_val}\n",
        "\n",
        "df_cp = pd.DataFrame(dict_cp).T\n",
        "df_cp_sorted = df_cp.sort_values('P_Value')\n",
        "df_cp_sorted[df_cp_sorted['P_Value']<0.1]"
      ],
      "execution_count": null,
      "outputs": []
    },
    {
      "cell_type": "code",
      "metadata": {
        "id": "L7KOILrKyUTB",
        "colab_type": "code",
        "colab": {}
      },
      "source": [
        "# The dependent variable remains the same:\n",
        "y_data = Train['Time from Pickup to Arrival'] \n",
        "\n",
        "# Model building - Independent Variable (IV) DataFrame\n",
        "X_names = list(df_cp[df_cp['P_Value'] < 0.05].index)\n",
        "X_data = Train[X_names]"
      ],
      "execution_count": null,
      "outputs": []
    },
    {
      "cell_type": "code",
      "metadata": {
        "id": "oO6gCrdnHrQw",
        "colab_type": "code",
        "colab": {}
      },
      "source": [
        "X_data.head()"
      ],
      "execution_count": null,
      "outputs": []
    },
    {
      "cell_type": "code",
      "metadata": {
        "id": "ywTUmCL5Ivt4",
        "colab_type": "code",
        "colab": {}
      },
      "source": [
        "# Create the correlation matrix\n",
        "corr = X_data.corr()\n",
        "\n",
        "# Find rows and columns where correlation coefficients > 0.9 or <-0.9\n",
        "corr[np.abs(corr) > 0.9]"
      ],
      "execution_count": null,
      "outputs": []
    },
    {
      "cell_type": "code",
      "metadata": {
        "id": "GjzaDPyvI8Ev",
        "colab_type": "code",
        "colab": {}
      },
      "source": [
        "# As before, we create the correlation matrix\n",
        "# and find rows and columnd where correlation coefficients > 0.9 or <-0.9\n",
        "corr = X_data.corr()\n",
        "r, c = np.where(np.abs(corr) > 0.9)\n",
        "\n",
        "# We are only interested in the off diagonal entries:\n",
        "off_diagonal = np.where(r != c)\n",
        "\n",
        "# Show the correlation matrix rows and columns where we have highly correlated off diagonal entries:\n",
        "corr.iloc[r[off_diagonal], c[off_diagonal]]"
      ],
      "execution_count": null,
      "outputs": []
    },
    {
      "cell_type": "code",
      "metadata": {
        "id": "OKeWGjN1T_a8",
        "colab_type": "code",
        "colab": {}
      },
      "source": [
        "DropColumns = ['Pickup - Weekday (Mo = 1)_5', 'Placement - Weekday (Mo = 1)_5','Placement - Weekday (Mo = 1)_5',\n",
        "               'Confirmation - Weekday (Mo = 1)_5', 'Confirmation - Weekday (Mo = 1)_5', 'Confirmation - Weekday (Mo = 1)_2',\n",
        "               'Pickup - Weekday (Mo = 1)_2','Pickup - Weekday (Mo = 1)_2', 'Placement - Weekday (Mo = 1)_2',\n",
        "               'Placement - Weekday (Mo = 1)_2','Rider Id_Rider_Id_83','Confirmation - Day of Month','Confirmation - Day of Month',\n",
        "               'Confirmation - Day of Month','Arrival at Pickup - Day of Month','Arrival at Pickup - Day of Month',\n",
        "               'Arrival at Pickup - Day of Month','Pickup - Day of Month','Pickup - Day of Month',\n",
        "               'Placement - Day of Month','Placement - Day of Month','Placement - Weekday (Mo = 1)_6',\n",
        "               'Pickup - Weekday (Mo = 1)_6','Pickup - Weekday (Mo = 1)_6','Confirmation - Weekday (Mo = 1)_6',\n",
        "               'Confirmation - Weekday (Mo = 1)_6']"
      ],
      "execution_count": null,
      "outputs": []
    },
    {
      "cell_type": "code",
      "metadata": {
        "id": "4c6tbPgdWwZu",
        "colab_type": "code",
        "colab": {}
      },
      "source": [
        "X_data = X_data.drop(DropColumns,axis=1)"
      ],
      "execution_count": null,
      "outputs": []
    },
    {
      "cell_type": "markdown",
      "metadata": {
        "id": "9Dwdr3O2YQi-",
        "colab_type": "text"
      },
      "source": [
        "# Ensemble Method\n"
      ]
    },
    {
      "cell_type": "markdown",
      "metadata": {
        "id": "wH5egYSnbKRR",
        "colab_type": "text"
      },
      "source": [
        "**Feature Scaling**"
      ]
    },
    {
      "cell_type": "code",
      "metadata": {
        "id": "xlDpc2_BKYDs",
        "colab_type": "code",
        "colab": {}
      },
      "source": [
        "# import the scaling module\n",
        "from sklearn.preprocessing import StandardScaler"
      ],
      "execution_count": null,
      "outputs": []
    },
    {
      "cell_type": "code",
      "metadata": {
        "id": "SoYpgIQFKfoN",
        "colab_type": "code",
        "colab": {}
      },
      "source": [
        "# create standardization object\n",
        "scaler_X = StandardScaler()\n",
        "scaler_y = StandardScaler()"
      ],
      "execution_count": null,
      "outputs": []
    },
    {
      "cell_type": "code",
      "metadata": {
        "id": "lXj7XD0CbJYH",
        "colab_type": "code",
        "colab": {}
      },
      "source": [
        "columns = ['Distance (KM)', 'Destination Long','Pickup Long']\n",
        "# save standardized features into new variable\n",
        "X_data[columns] = scaler_X.fit_transform(X_data[columns])\n",
        "y_data = np.array(y_data).reshape(-1,1)\n"
      ],
      "execution_count": null,
      "outputs": []
    },
    {
      "cell_type": "markdown",
      "metadata": {
        "id": "7tFFCM5Ikqbz",
        "colab_type": "text"
      },
      "source": [
        "**splitting features into test set and training set**"
      ]
    },
    {
      "cell_type": "code",
      "metadata": {
        "id": "q82D5vqvk0QV",
        "colab_type": "code",
        "colab": {}
      },
      "source": [
        "# import train/test split module\n",
        "from sklearn.model_selection import train_test_split"
      ],
      "execution_count": null,
      "outputs": []
    },
    {
      "cell_type": "code",
      "metadata": {
        "id": "AUy9Fc1glAwZ",
        "colab_type": "code",
        "colab": {}
      },
      "source": [
        "# split dataset into train and test sets\n",
        "X_train, X_test, y_train, y_test = train_test_split(X_data,\n",
        "                                                    y_data,\n",
        "                                                    test_size=0.20,\n",
        "                                                    random_state=1)"
      ],
      "execution_count": null,
      "outputs": []
    },
    {
      "cell_type": "markdown",
      "metadata": {
        "id": "v9g58f9yf6Fp",
        "colab_type": "text"
      },
      "source": [
        "**Ridge Model**"
      ]
    },
    {
      "cell_type": "code",
      "metadata": {
        "id": "ox6ho_aGBPS6",
        "colab_type": "code",
        "colab": {}
      },
      "source": [
        "from sklearn.linear_model import LinearRegression, Ridge"
      ],
      "execution_count": null,
      "outputs": []
    },
    {
      "cell_type": "code",
      "metadata": {
        "id": "GI_WlPhkDo51",
        "colab_type": "code",
        "colab": {}
      },
      "source": [
        "ridge = Ridge()\n",
        "regressor = LinearRegression()"
      ],
      "execution_count": null,
      "outputs": []
    },
    {
      "cell_type": "code",
      "metadata": {
        "id": "VAikEmn2DuBW",
        "colab_type": "code",
        "colab": {}
      },
      "source": [
        "ridge.fit(X_train, y_train)\n",
        "regressor.fit(X_train, y_train)"
      ],
      "execution_count": null,
      "outputs": []
    },
    {
      "cell_type": "code",
      "metadata": {
        "id": "MXihtiJqD4-C",
        "colab_type": "code",
        "colab": {}
      },
      "source": [
        "ridge_pred = ridge.predict(X_test)\n",
        "regressor_pred = regressor.predict(X_test)"
      ],
      "execution_count": null,
      "outputs": []
    },
    {
      "cell_type": "code",
      "metadata": {
        "id": "wfkXG_LBF4xC",
        "colab_type": "code",
        "colab": {}
      },
      "source": [
        "from sklearn.metrics import mean_squared_error\n",
        "ridge_rmse = mean_squared_error(y_test, ridge_pred, squared= False)\n",
        "regressor_rmse = mean_squared_error(y_test, regressor_pred, squared= False)"
      ],
      "execution_count": null,
      "outputs": []
    },
    {
      "cell_type": "code",
      "metadata": {
        "id": "zxfdxZtOGHpf",
        "colab_type": "code",
        "colab": {}
      },
      "source": [
        "ridge_rmse"
      ],
      "execution_count": null,
      "outputs": []
    },
    {
      "cell_type": "code",
      "metadata": {
        "id": "thXdZqtmGKXD",
        "colab_type": "code",
        "colab": {}
      },
      "source": [
        "regressor_rmse"
      ],
      "execution_count": null,
      "outputs": []
    },
    {
      "cell_type": "markdown",
      "metadata": {
        "id": "OWXGkvI1FB57",
        "colab_type": "text"
      },
      "source": [
        "Building Decision Tree"
      ]
    },
    {
      "cell_type": "code",
      "metadata": {
        "id": "wCoC4sQEFA25",
        "colab_type": "code",
        "colab": {}
      },
      "source": [
        "from sklearn.tree import DecisionTreeRegressor\n",
        "reg_tree = DecisionTreeRegressor(max_depth=3)"
      ],
      "execution_count": null,
      "outputs": []
    },
    {
      "cell_type": "code",
      "metadata": {
        "id": "_wtK5_VwF_XR",
        "colab_type": "code",
        "colab": {}
      },
      "source": [
        "reg_tree.fit(X_train,y_train)\n",
        "dt_pred = reg_tree.predict(X_test)"
      ],
      "execution_count": null,
      "outputs": []
    },
    {
      "cell_type": "code",
      "metadata": {
        "id": "euL2ePoAGT9F",
        "colab_type": "code",
        "colab": {}
      },
      "source": [
        "dt_rmse = mean_squared_error(y_test, dt_pred, squared= False)"
      ],
      "execution_count": null,
      "outputs": []
    },
    {
      "cell_type": "code",
      "metadata": {
        "id": "w99p-CenGbsN",
        "colab_type": "code",
        "colab": {}
      },
      "source": [
        "dt_rmse"
      ],
      "execution_count": null,
      "outputs": []
    },
    {
      "cell_type": "markdown",
      "metadata": {
        "id": "_xM6DdoDGnhD",
        "colab_type": "text"
      },
      "source": [
        "SVR Model"
      ]
    },
    {
      "cell_type": "code",
      "metadata": {
        "id": "enWOlcZ7GmYC",
        "colab_type": "code",
        "colab": {}
      },
      "source": [
        "from sklearn.svm import SVR\n",
        "sv_reg = SVR(kernel='rbf', gamma='auto')\n",
        "sv_reg.fit(X_train,y_train)\n",
        "svr_pred = sv_reg.predict(X_test)"
      ],
      "execution_count": null,
      "outputs": []
    },
    {
      "cell_type": "code",
      "metadata": {
        "id": "Vp7YDrTyHGBL",
        "colab_type": "code",
        "colab": {}
      },
      "source": [
        "svr_rmse = mean_squared_error(y_test, svr_pred, squared= False)"
      ],
      "execution_count": null,
      "outputs": []
    },
    {
      "cell_type": "code",
      "metadata": {
        "id": "JZtqgrulHK2Y",
        "colab_type": "code",
        "colab": {}
      },
      "source": [
        "svr_rmse"
      ],
      "execution_count": null,
      "outputs": []
    },
    {
      "cell_type": "markdown",
      "metadata": {
        "id": "H4xDxxTwOCrD",
        "colab_type": "text"
      },
      "source": [
        "Lasso Model"
      ]
    },
    {
      "cell_type": "code",
      "metadata": {
        "id": "OjVy8Kd-OEUX",
        "colab_type": "code",
        "colab": {}
      },
      "source": [
        "from sklearn.linear_model import Lasso\n",
        "lasso = Lasso(alpha=0.01)\n",
        "lasso.fit(X_train, y_train)\n",
        "y_pred = lasso.predict(X_test)"
      ],
      "execution_count": null,
      "outputs": []
    },
    {
      "cell_type": "code",
      "metadata": {
        "id": "4GyJ14-BOYKC",
        "colab_type": "code",
        "colab": {}
      },
      "source": [
        "lasso_rmse = mean_squared_error(y_test, y_pred, squared= False)\n",
        "lasso_rmse"
      ],
      "execution_count": null,
      "outputs": []
    },
    {
      "cell_type": "markdown",
      "metadata": {
        "id": "oBlGqwYwMA1R",
        "colab_type": "text"
      },
      "source": [
        "Stacking method"
      ]
    },
    {
      "cell_type": "code",
      "metadata": {
        "id": "gYKZJXZOMCx-",
        "colab_type": "code",
        "colab": {}
      },
      "source": [
        "from sklearn.ensemble import StackingRegressor\n",
        "models = [(\"LR\",regressor),(\"DT\",reg_tree),(\"SVR\",sv_reg),(\"Ridge\",ridge),(\"lasso\",lasso)]"
      ],
      "execution_count": null,
      "outputs": []
    },
    {
      "cell_type": "code",
      "metadata": {
        "id": "vlYu0zlmOyRD",
        "colab_type": "code",
        "colab": {}
      },
      "source": [
        "meta_learner_reg = LinearRegression()\n",
        "s_reg = StackingRegressor(estimators=models, final_estimator=meta_learner_reg)"
      ],
      "execution_count": null,
      "outputs": []
    },
    {
      "cell_type": "code",
      "metadata": {
        "id": "DksplmrNO_lv",
        "colab_type": "code",
        "colab": {}
      },
      "source": [
        "s_reg.fit(X_train,y_train)\n",
        "y_pred = s_reg.predict(X_test)"
      ],
      "execution_count": null,
      "outputs": []
    },
    {
      "cell_type": "code",
      "metadata": {
        "id": "XNzkg33bPOuw",
        "colab_type": "code",
        "colab": {}
      },
      "source": [
        "meta_rmse = mean_squared_error(y_test, y_pred, squared= False)\n",
        "meta_rmse"
      ],
      "execution_count": null,
      "outputs": []
    }
  ]
}